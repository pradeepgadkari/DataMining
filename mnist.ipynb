{
 "cells": [
  {
   "cell_type": "markdown",
   "metadata": {
    "papermill": {
     "duration": 0.033518,
     "end_time": "2021-01-17T18:35:53.156079",
     "exception": false,
     "start_time": "2021-01-17T18:35:53.122561",
     "status": "completed"
    },
    "tags": []
   },
   "source": [
    "## Importing Datasets"
   ]
  },
  {
   "cell_type": "code",
   "execution_count": 1,
   "metadata": {
    "_cell_guid": "b1076dfc-b9ad-4769-8c92-a6c4dae69d19",
    "_uuid": "8f2839f25d086af736a60e9eeb907d3b93b6e0e5",
    "execution": {
     "iopub.execute_input": "2021-01-17T18:35:53.243501Z",
     "iopub.status.busy": "2021-01-17T18:35:53.242745Z",
     "iopub.status.idle": "2021-01-17T18:35:53.246765Z",
     "shell.execute_reply": "2021-01-17T18:35:53.247420Z"
    },
    "papermill": {
     "duration": 0.056705,
     "end_time": "2021-01-17T18:35:53.247605",
     "exception": false,
     "start_time": "2021-01-17T18:35:53.190900",
     "status": "completed"
    },
    "tags": []
   },
   "outputs": [],
   "source": [
    "import numpy as np # linear algebra\n",
    "import pandas as pd # data processing, CSV file I/O (e.g. pd.read_csv)\n",
    "import matplotlib.pyplot as plt"
   ]
  },
  {
   "cell_type": "code",
   "execution_count": 2,
   "metadata": {
    "_cell_guid": "79c7e3d0-c299-4dcb-8224-4455121ee9b0",
    "_uuid": "d629ff2d2480ee46fbb7e2d37f6b5fab8052498a",
    "execution": {
     "iopub.execute_input": "2021-01-17T18:35:53.345407Z",
     "iopub.status.busy": "2021-01-17T18:35:53.344410Z",
     "iopub.status.idle": "2021-01-17T18:36:00.861190Z",
     "shell.execute_reply": "2021-01-17T18:36:00.860517Z"
    },
    "papermill": {
     "duration": 7.569664,
     "end_time": "2021-01-17T18:36:00.861323",
     "exception": false,
     "start_time": "2021-01-17T18:35:53.291659",
     "status": "completed"
    },
    "tags": []
   },
   "outputs": [],
   "source": [
    "train = pd.read_csv('/kaggle/input/digit-recognizer/train.csv')\n",
    "test = pd.read_csv('/kaggle/input/digit-recognizer/test.csv')"
   ]
  },
  {
   "cell_type": "code",
   "execution_count": 3,
   "metadata": {
    "execution": {
     "iopub.execute_input": "2021-01-17T18:36:00.937719Z",
     "iopub.status.busy": "2021-01-17T18:36:00.936950Z",
     "iopub.status.idle": "2021-01-17T18:36:00.963652Z",
     "shell.execute_reply": "2021-01-17T18:36:00.962951Z"
    },
    "papermill": {
     "duration": 0.070866,
     "end_time": "2021-01-17T18:36:00.963767",
     "exception": false,
     "start_time": "2021-01-17T18:36:00.892901",
     "status": "completed"
    },
    "tags": []
   },
   "outputs": [
    {
     "data": {
      "text/html": [
       "<div>\n",
       "<style scoped>\n",
       "    .dataframe tbody tr th:only-of-type {\n",
       "        vertical-align: middle;\n",
       "    }\n",
       "\n",
       "    .dataframe tbody tr th {\n",
       "        vertical-align: top;\n",
       "    }\n",
       "\n",
       "    .dataframe thead th {\n",
       "        text-align: right;\n",
       "    }\n",
       "</style>\n",
       "<table border=\"1\" class=\"dataframe\">\n",
       "  <thead>\n",
       "    <tr style=\"text-align: right;\">\n",
       "      <th></th>\n",
       "      <th>label</th>\n",
       "      <th>pixel0</th>\n",
       "      <th>pixel1</th>\n",
       "      <th>pixel2</th>\n",
       "      <th>pixel3</th>\n",
       "      <th>pixel4</th>\n",
       "      <th>pixel5</th>\n",
       "      <th>pixel6</th>\n",
       "      <th>pixel7</th>\n",
       "      <th>pixel8</th>\n",
       "      <th>...</th>\n",
       "      <th>pixel774</th>\n",
       "      <th>pixel775</th>\n",
       "      <th>pixel776</th>\n",
       "      <th>pixel777</th>\n",
       "      <th>pixel778</th>\n",
       "      <th>pixel779</th>\n",
       "      <th>pixel780</th>\n",
       "      <th>pixel781</th>\n",
       "      <th>pixel782</th>\n",
       "      <th>pixel783</th>\n",
       "    </tr>\n",
       "  </thead>\n",
       "  <tbody>\n",
       "    <tr>\n",
       "      <th>0</th>\n",
       "      <td>1</td>\n",
       "      <td>0</td>\n",
       "      <td>0</td>\n",
       "      <td>0</td>\n",
       "      <td>0</td>\n",
       "      <td>0</td>\n",
       "      <td>0</td>\n",
       "      <td>0</td>\n",
       "      <td>0</td>\n",
       "      <td>0</td>\n",
       "      <td>...</td>\n",
       "      <td>0</td>\n",
       "      <td>0</td>\n",
       "      <td>0</td>\n",
       "      <td>0</td>\n",
       "      <td>0</td>\n",
       "      <td>0</td>\n",
       "      <td>0</td>\n",
       "      <td>0</td>\n",
       "      <td>0</td>\n",
       "      <td>0</td>\n",
       "    </tr>\n",
       "    <tr>\n",
       "      <th>1</th>\n",
       "      <td>0</td>\n",
       "      <td>0</td>\n",
       "      <td>0</td>\n",
       "      <td>0</td>\n",
       "      <td>0</td>\n",
       "      <td>0</td>\n",
       "      <td>0</td>\n",
       "      <td>0</td>\n",
       "      <td>0</td>\n",
       "      <td>0</td>\n",
       "      <td>...</td>\n",
       "      <td>0</td>\n",
       "      <td>0</td>\n",
       "      <td>0</td>\n",
       "      <td>0</td>\n",
       "      <td>0</td>\n",
       "      <td>0</td>\n",
       "      <td>0</td>\n",
       "      <td>0</td>\n",
       "      <td>0</td>\n",
       "      <td>0</td>\n",
       "    </tr>\n",
       "    <tr>\n",
       "      <th>2</th>\n",
       "      <td>1</td>\n",
       "      <td>0</td>\n",
       "      <td>0</td>\n",
       "      <td>0</td>\n",
       "      <td>0</td>\n",
       "      <td>0</td>\n",
       "      <td>0</td>\n",
       "      <td>0</td>\n",
       "      <td>0</td>\n",
       "      <td>0</td>\n",
       "      <td>...</td>\n",
       "      <td>0</td>\n",
       "      <td>0</td>\n",
       "      <td>0</td>\n",
       "      <td>0</td>\n",
       "      <td>0</td>\n",
       "      <td>0</td>\n",
       "      <td>0</td>\n",
       "      <td>0</td>\n",
       "      <td>0</td>\n",
       "      <td>0</td>\n",
       "    </tr>\n",
       "    <tr>\n",
       "      <th>3</th>\n",
       "      <td>4</td>\n",
       "      <td>0</td>\n",
       "      <td>0</td>\n",
       "      <td>0</td>\n",
       "      <td>0</td>\n",
       "      <td>0</td>\n",
       "      <td>0</td>\n",
       "      <td>0</td>\n",
       "      <td>0</td>\n",
       "      <td>0</td>\n",
       "      <td>...</td>\n",
       "      <td>0</td>\n",
       "      <td>0</td>\n",
       "      <td>0</td>\n",
       "      <td>0</td>\n",
       "      <td>0</td>\n",
       "      <td>0</td>\n",
       "      <td>0</td>\n",
       "      <td>0</td>\n",
       "      <td>0</td>\n",
       "      <td>0</td>\n",
       "    </tr>\n",
       "    <tr>\n",
       "      <th>4</th>\n",
       "      <td>0</td>\n",
       "      <td>0</td>\n",
       "      <td>0</td>\n",
       "      <td>0</td>\n",
       "      <td>0</td>\n",
       "      <td>0</td>\n",
       "      <td>0</td>\n",
       "      <td>0</td>\n",
       "      <td>0</td>\n",
       "      <td>0</td>\n",
       "      <td>...</td>\n",
       "      <td>0</td>\n",
       "      <td>0</td>\n",
       "      <td>0</td>\n",
       "      <td>0</td>\n",
       "      <td>0</td>\n",
       "      <td>0</td>\n",
       "      <td>0</td>\n",
       "      <td>0</td>\n",
       "      <td>0</td>\n",
       "      <td>0</td>\n",
       "    </tr>\n",
       "  </tbody>\n",
       "</table>\n",
       "<p>5 rows × 785 columns</p>\n",
       "</div>"
      ],
      "text/plain": [
       "   label  pixel0  pixel1  pixel2  pixel3  pixel4  pixel5  pixel6  pixel7  \\\n",
       "0      1       0       0       0       0       0       0       0       0   \n",
       "1      0       0       0       0       0       0       0       0       0   \n",
       "2      1       0       0       0       0       0       0       0       0   \n",
       "3      4       0       0       0       0       0       0       0       0   \n",
       "4      0       0       0       0       0       0       0       0       0   \n",
       "\n",
       "   pixel8  ...  pixel774  pixel775  pixel776  pixel777  pixel778  pixel779  \\\n",
       "0       0  ...         0         0         0         0         0         0   \n",
       "1       0  ...         0         0         0         0         0         0   \n",
       "2       0  ...         0         0         0         0         0         0   \n",
       "3       0  ...         0         0         0         0         0         0   \n",
       "4       0  ...         0         0         0         0         0         0   \n",
       "\n",
       "   pixel780  pixel781  pixel782  pixel783  \n",
       "0         0         0         0         0  \n",
       "1         0         0         0         0  \n",
       "2         0         0         0         0  \n",
       "3         0         0         0         0  \n",
       "4         0         0         0         0  \n",
       "\n",
       "[5 rows x 785 columns]"
      ]
     },
     "execution_count": 3,
     "metadata": {},
     "output_type": "execute_result"
    }
   ],
   "source": [
    "train.head()"
   ]
  },
  {
   "cell_type": "code",
   "execution_count": 4,
   "metadata": {
    "execution": {
     "iopub.execute_input": "2021-01-17T18:36:01.037239Z",
     "iopub.status.busy": "2021-01-17T18:36:01.036224Z",
     "iopub.status.idle": "2021-01-17T18:36:01.180386Z",
     "shell.execute_reply": "2021-01-17T18:36:01.181098Z"
    },
    "papermill": {
     "duration": 0.18344,
     "end_time": "2021-01-17T18:36:01.181304",
     "exception": false,
     "start_time": "2021-01-17T18:36:00.997864",
     "status": "completed"
    },
    "tags": []
   },
   "outputs": [],
   "source": [
    "X = train.drop(columns='label')\n",
    "y = train['label']\n",
    "X_test = test\n"
   ]
  },
  {
   "cell_type": "code",
   "execution_count": 5,
   "metadata": {
    "execution": {
     "iopub.execute_input": "2021-01-17T18:36:01.253988Z",
     "iopub.status.busy": "2021-01-17T18:36:01.253193Z",
     "iopub.status.idle": "2021-01-17T18:36:01.258667Z",
     "shell.execute_reply": "2021-01-17T18:36:01.259885Z"
    },
    "papermill": {
     "duration": 0.045162,
     "end_time": "2021-01-17T18:36:01.260102",
     "exception": false,
     "start_time": "2021-01-17T18:36:01.214940",
     "status": "completed"
    },
    "tags": []
   },
   "outputs": [
    {
     "name": "stdout",
     "output_type": "stream",
     "text": [
      "(42000, 784) (28000, 784)\n"
     ]
    }
   ],
   "source": [
    "print(X.shape,X_test.shape)"
   ]
  },
  {
   "cell_type": "markdown",
   "metadata": {
    "papermill": {
     "duration": 0.036803,
     "end_time": "2021-01-17T18:36:01.335018",
     "exception": false,
     "start_time": "2021-01-17T18:36:01.298215",
     "status": "completed"
    },
    "tags": []
   },
   "source": [
    "## Split data"
   ]
  },
  {
   "cell_type": "code",
   "execution_count": 6,
   "metadata": {
    "execution": {
     "iopub.execute_input": "2021-01-17T18:36:01.410378Z",
     "iopub.status.busy": "2021-01-17T18:36:01.409627Z",
     "iopub.status.idle": "2021-01-17T18:36:03.082184Z",
     "shell.execute_reply": "2021-01-17T18:36:03.081567Z"
    },
    "papermill": {
     "duration": 1.712668,
     "end_time": "2021-01-17T18:36:03.082303",
     "exception": false,
     "start_time": "2021-01-17T18:36:01.369635",
     "status": "completed"
    },
    "tags": []
   },
   "outputs": [],
   "source": [
    "from sklearn.model_selection import train_test_split"
   ]
  },
  {
   "cell_type": "code",
   "execution_count": 7,
   "metadata": {
    "execution": {
     "iopub.execute_input": "2021-01-17T18:36:03.158034Z",
     "iopub.status.busy": "2021-01-17T18:36:03.156413Z",
     "iopub.status.idle": "2021-01-17T18:36:03.426391Z",
     "shell.execute_reply": "2021-01-17T18:36:03.425692Z"
    },
    "papermill": {
     "duration": 0.309991,
     "end_time": "2021-01-17T18:36:03.426517",
     "exception": false,
     "start_time": "2021-01-17T18:36:03.116526",
     "status": "completed"
    },
    "tags": []
   },
   "outputs": [],
   "source": [
    "X_train, X_val,y_train,y_val  = train_test_split(X,y,test_size = 0.1,random_state = 101)"
   ]
  },
  {
   "cell_type": "code",
   "execution_count": 8,
   "metadata": {
    "execution": {
     "iopub.execute_input": "2021-01-17T18:36:03.511106Z",
     "iopub.status.busy": "2021-01-17T18:36:03.510096Z",
     "iopub.status.idle": "2021-01-17T18:36:03.514197Z",
     "shell.execute_reply": "2021-01-17T18:36:03.514701Z"
    },
    "papermill": {
     "duration": 0.050543,
     "end_time": "2021-01-17T18:36:03.514867",
     "exception": false,
     "start_time": "2021-01-17T18:36:03.464324",
     "status": "completed"
    },
    "tags": []
   },
   "outputs": [
    {
     "data": {
      "text/plain": [
       "(37800, 784)"
      ]
     },
     "execution_count": 8,
     "metadata": {},
     "output_type": "execute_result"
    }
   ],
   "source": [
    "X_train.shape"
   ]
  },
  {
   "cell_type": "code",
   "execution_count": 9,
   "metadata": {
    "execution": {
     "iopub.execute_input": "2021-01-17T18:36:03.600890Z",
     "iopub.status.busy": "2021-01-17T18:36:03.599822Z",
     "iopub.status.idle": "2021-01-17T18:36:03.608278Z",
     "shell.execute_reply": "2021-01-17T18:36:03.607515Z"
    },
    "papermill": {
     "duration": 0.050749,
     "end_time": "2021-01-17T18:36:03.608544",
     "exception": false,
     "start_time": "2021-01-17T18:36:03.557795",
     "status": "completed"
    },
    "tags": []
   },
   "outputs": [
    {
     "data": {
      "text/plain": [
       "(4200, 784)"
      ]
     },
     "execution_count": 9,
     "metadata": {},
     "output_type": "execute_result"
    }
   ],
   "source": [
    "X_val.shape"
   ]
  },
  {
   "cell_type": "code",
   "execution_count": 10,
   "metadata": {
    "execution": {
     "iopub.execute_input": "2021-01-17T18:36:03.704599Z",
     "iopub.status.busy": "2021-01-17T18:36:03.703186Z",
     "iopub.status.idle": "2021-01-17T18:36:03.706901Z",
     "shell.execute_reply": "2021-01-17T18:36:03.707435Z"
    },
    "papermill": {
     "duration": 0.053834,
     "end_time": "2021-01-17T18:36:03.707617",
     "exception": false,
     "start_time": "2021-01-17T18:36:03.653783",
     "status": "completed"
    },
    "tags": []
   },
   "outputs": [],
   "source": [
    "X_train = X_train.values.reshape(-1,28,28)\n",
    "X_val = X_val.values.reshape(-1,28,28)\n"
   ]
  },
  {
   "cell_type": "code",
   "execution_count": 11,
   "metadata": {
    "execution": {
     "iopub.execute_input": "2021-01-17T18:36:03.800026Z",
     "iopub.status.busy": "2021-01-17T18:36:03.798741Z",
     "iopub.status.idle": "2021-01-17T18:36:03.805965Z",
     "shell.execute_reply": "2021-01-17T18:36:03.805179Z"
    },
    "papermill": {
     "duration": 0.057549,
     "end_time": "2021-01-17T18:36:03.806113",
     "exception": false,
     "start_time": "2021-01-17T18:36:03.748564",
     "status": "completed"
    },
    "tags": []
   },
   "outputs": [
    {
     "data": {
      "text/plain": [
       "(37800, 28, 28)"
      ]
     },
     "execution_count": 11,
     "metadata": {},
     "output_type": "execute_result"
    }
   ],
   "source": [
    "X_train.shape"
   ]
  },
  {
   "cell_type": "code",
   "execution_count": 12,
   "metadata": {
    "execution": {
     "iopub.execute_input": "2021-01-17T18:36:03.910703Z",
     "iopub.status.busy": "2021-01-17T18:36:03.909696Z",
     "iopub.status.idle": "2021-01-17T18:36:04.194641Z",
     "shell.execute_reply": "2021-01-17T18:36:04.193360Z"
    },
    "papermill": {
     "duration": 0.337296,
     "end_time": "2021-01-17T18:36:04.194862",
     "exception": false,
     "start_time": "2021-01-17T18:36:03.857566",
     "status": "completed"
    },
    "tags": []
   },
   "outputs": [
    {
     "data": {
      "image/png": "[encoded data removed]",
      "text/plain": [
       "<Figure size 432x288 with 1 Axes>"
      ]
     },
     "metadata": {
      "needs_background": "light"
     },
     "output_type": "display_data"
    }
   ],
   "source": [
    "plt.imshow(X_train[6]);"
   ]
  },
  {
   "cell_type": "code",
   "execution_count": 13,
   "metadata": {
    "execution": {
     "iopub.execute_input": "2021-01-17T18:36:04.301024Z",
     "iopub.status.busy": "2021-01-17T18:36:04.297223Z",
     "iopub.status.idle": "2021-01-17T18:36:04.488027Z",
     "shell.execute_reply": "2021-01-17T18:36:04.487159Z"
    },
    "papermill": {
     "duration": 0.254838,
     "end_time": "2021-01-17T18:36:04.488195",
     "exception": false,
     "start_time": "2021-01-17T18:36:04.233357",
     "status": "completed"
    },
    "tags": []
   },
   "outputs": [
    {
     "data": {
      "image/png": "[encoded data removed]",
      "text/plain": [
       "<Figure size 432x288 with 1 Axes>"
      ]
     },
     "metadata": {
      "needs_background": "light"
     },
     "output_type": "display_data"
    }
   ],
   "source": [
    "plt.imshow(X_val[6]);"
   ]
  },
  {
   "cell_type": "code",
   "execution_count": 14,
   "metadata": {
    "execution": {
     "iopub.execute_input": "2021-01-17T18:36:04.581504Z",
     "iopub.status.busy": "2021-01-17T18:36:04.580766Z",
     "iopub.status.idle": "2021-01-17T18:36:04.585687Z",
     "shell.execute_reply": "2021-01-17T18:36:04.585046Z"
    },
    "papermill": {
     "duration": 0.0573,
     "end_time": "2021-01-17T18:36:04.585835",
     "exception": false,
     "start_time": "2021-01-17T18:36:04.528535",
     "status": "completed"
    },
    "tags": []
   },
   "outputs": [
    {
     "data": {
      "text/plain": [
       "(4200,)"
      ]
     },
     "execution_count": 14,
     "metadata": {},
     "output_type": "execute_result"
    }
   ],
   "source": [
    "y_val.shape"
   ]
  },
  {
   "cell_type": "markdown",
   "metadata": {
    "papermill": {
     "duration": 0.046503,
     "end_time": "2021-01-17T18:36:04.673731",
     "exception": false,
     "start_time": "2021-01-17T18:36:04.627228",
     "status": "completed"
    },
    "tags": []
   },
   "source": [
    "## Converting y label to categories"
   ]
  },
  {
   "cell_type": "code",
   "execution_count": 15,
   "metadata": {
    "execution": {
     "iopub.execute_input": "2021-01-17T18:36:04.763571Z",
     "iopub.status.busy": "2021-01-17T18:36:04.762582Z",
     "iopub.status.idle": "2021-01-17T18:36:12.915403Z",
     "shell.execute_reply": "2021-01-17T18:36:12.914367Z"
    },
    "papermill": {
     "duration": 8.201414,
     "end_time": "2021-01-17T18:36:12.915557",
     "exception": false,
     "start_time": "2021-01-17T18:36:04.714143",
     "status": "completed"
    },
    "tags": []
   },
   "outputs": [],
   "source": [
    "from tensorflow.keras.utils import to_categorical\n",
    "\n",
    "y_cat_train = to_categorical(y_train)\n",
    "y_cat_val = to_categorical(y_val)"
   ]
  },
  {
   "cell_type": "code",
   "execution_count": 16,
   "metadata": {
    "execution": {
     "iopub.execute_input": "2021-01-17T18:36:12.998662Z",
     "iopub.status.busy": "2021-01-17T18:36:12.997786Z",
     "iopub.status.idle": "2021-01-17T18:36:13.001618Z",
     "shell.execute_reply": "2021-01-17T18:36:13.002287Z"
    },
    "papermill": {
     "duration": 0.047516,
     "end_time": "2021-01-17T18:36:13.002445",
     "exception": false,
     "start_time": "2021-01-17T18:36:12.954929",
     "status": "completed"
    },
    "tags": []
   },
   "outputs": [
    {
     "data": {
      "text/plain": [
       "(37800, 10)"
      ]
     },
     "execution_count": 16,
     "metadata": {},
     "output_type": "execute_result"
    }
   ],
   "source": [
    "y_cat_train.shape"
   ]
  },
  {
   "cell_type": "markdown",
   "metadata": {
    "papermill": {
     "duration": 0.036995,
     "end_time": "2021-01-17T18:36:13.077735",
     "exception": false,
     "start_time": "2021-01-17T18:36:13.040740",
     "status": "completed"
    },
    "tags": []
   },
   "source": [
    "### Scaling features"
   ]
  },
  {
   "cell_type": "code",
   "execution_count": 17,
   "metadata": {
    "execution": {
     "iopub.execute_input": "2021-01-17T18:36:13.156085Z",
     "iopub.status.busy": "2021-01-17T18:36:13.154981Z",
     "iopub.status.idle": "2021-01-17T18:36:13.373094Z",
     "shell.execute_reply": "2021-01-17T18:36:13.373997Z"
    },
    "papermill": {
     "duration": 0.259493,
     "end_time": "2021-01-17T18:36:13.374180",
     "exception": false,
     "start_time": "2021-01-17T18:36:13.114687",
     "status": "completed"
    },
    "tags": []
   },
   "outputs": [],
   "source": [
    "X_train = X_train/255\n",
    "X_test = X_test/255\n",
    "X_val = X_val/255"
   ]
  },
  {
   "cell_type": "code",
   "execution_count": 18,
   "metadata": {
    "execution": {
     "iopub.execute_input": "2021-01-17T18:36:13.461850Z",
     "iopub.status.busy": "2021-01-17T18:36:13.460633Z",
     "iopub.status.idle": "2021-01-17T18:36:13.521551Z",
     "shell.execute_reply": "2021-01-17T18:36:13.520898Z"
    },
    "papermill": {
     "duration": 0.107633,
     "end_time": "2021-01-17T18:36:13.521688",
     "exception": false,
     "start_time": "2021-01-17T18:36:13.414055",
     "status": "completed"
    },
    "tags": []
   },
   "outputs": [
    {
     "name": "stdout",
     "output_type": "stream",
     "text": [
      "0.0 1.0\n"
     ]
    }
   ],
   "source": [
    "print(X_train.min(),X_train.max())"
   ]
  },
  {
   "cell_type": "markdown",
   "metadata": {
    "papermill": {
     "duration": 0.038096,
     "end_time": "2021-01-17T18:36:13.598356",
     "exception": false,
     "start_time": "2021-01-17T18:36:13.560260",
     "status": "completed"
    },
    "tags": []
   },
   "source": [
    "### We need to add 1 more dimension to specify to specify it is black and white image"
   ]
  },
  {
   "cell_type": "code",
   "execution_count": 19,
   "metadata": {
    "execution": {
     "iopub.execute_input": "2021-01-17T18:36:13.689456Z",
     "iopub.status.busy": "2021-01-17T18:36:13.688504Z",
     "iopub.status.idle": "2021-01-17T18:36:13.694478Z",
     "shell.execute_reply": "2021-01-17T18:36:13.693746Z"
    },
    "papermill": {
     "duration": 0.051564,
     "end_time": "2021-01-17T18:36:13.694636",
     "exception": false,
     "start_time": "2021-01-17T18:36:13.643072",
     "status": "completed"
    },
    "tags": []
   },
   "outputs": [],
   "source": [
    "X_train = X_train.reshape(-1,28,28,1)\n",
    "X_val = X_val.reshape(-1,28,28,1)\n",
    "X_test = X_test.values.reshape(-1,28,28,1)"
   ]
  },
  {
   "cell_type": "code",
   "execution_count": 20,
   "metadata": {
    "execution": {
     "iopub.execute_input": "2021-01-17T18:36:13.776173Z",
     "iopub.status.busy": "2021-01-17T18:36:13.775261Z",
     "iopub.status.idle": "2021-01-17T18:36:13.783000Z",
     "shell.execute_reply": "2021-01-17T18:36:13.782275Z"
    },
    "papermill": {
     "duration": 0.048172,
     "end_time": "2021-01-17T18:36:13.783136",
     "exception": false,
     "start_time": "2021-01-17T18:36:13.734964",
     "status": "completed"
    },
    "tags": []
   },
   "outputs": [
    {
     "data": {
      "text/plain": [
       "(37800, 28, 28, 1)"
      ]
     },
     "execution_count": 20,
     "metadata": {},
     "output_type": "execute_result"
    }
   ],
   "source": [
    "input_shape = X_train.shape\n",
    "input_shape"
   ]
  },
  {
   "cell_type": "code",
   "execution_count": 21,
   "metadata": {
    "execution": {
     "iopub.execute_input": "2021-01-17T18:36:13.870383Z",
     "iopub.status.busy": "2021-01-17T18:36:13.869274Z",
     "iopub.status.idle": "2021-01-17T18:36:13.875319Z",
     "shell.execute_reply": "2021-01-17T18:36:13.874742Z"
    },
    "papermill": {
     "duration": 0.053002,
     "end_time": "2021-01-17T18:36:13.875456",
     "exception": false,
     "start_time": "2021-01-17T18:36:13.822454",
     "status": "completed"
    },
    "tags": []
   },
   "outputs": [
    {
     "data": {
      "text/plain": [
       "array([[0., 0., 0., ..., 0., 1., 0.],\n",
       "       [0., 0., 0., ..., 0., 0., 0.],\n",
       "       [0., 1., 0., ..., 0., 0., 0.],\n",
       "       ...,\n",
       "       [0., 0., 1., ..., 0., 0., 0.],\n",
       "       [0., 0., 0., ..., 0., 0., 1.],\n",
       "       [0., 0., 0., ..., 1., 0., 0.]], dtype=float32)"
      ]
     },
     "execution_count": 21,
     "metadata": {},
     "output_type": "execute_result"
    }
   ],
   "source": [
    "y_cat_train"
   ]
  },
  {
   "cell_type": "markdown",
   "metadata": {
    "papermill": {
     "duration": 0.040454,
     "end_time": "2021-01-17T18:36:13.955722",
     "exception": false,
     "start_time": "2021-01-17T18:36:13.915268",
     "status": "completed"
    },
    "tags": []
   },
   "source": [
    "## Building the model"
   ]
  },
  {
   "cell_type": "code",
   "execution_count": 22,
   "metadata": {
    "execution": {
     "iopub.execute_input": "2021-01-17T18:36:14.043264Z",
     "iopub.status.busy": "2021-01-17T18:36:14.042235Z",
     "iopub.status.idle": "2021-01-17T18:36:14.047378Z",
     "shell.execute_reply": "2021-01-17T18:36:14.047933Z"
    },
    "papermill": {
     "duration": 0.049686,
     "end_time": "2021-01-17T18:36:14.048104",
     "exception": false,
     "start_time": "2021-01-17T18:36:13.998418",
     "status": "completed"
    },
    "tags": []
   },
   "outputs": [],
   "source": [
    "from tensorflow.keras.models import Sequential\n",
    "from tensorflow.keras.layers import Dense,Conv2D,Flatten,MaxPool2D,Dropout\n"
   ]
  },
  {
   "cell_type": "code",
   "execution_count": 23,
   "metadata": {
    "execution": {
     "iopub.execute_input": "2021-01-17T18:36:14.133837Z",
     "iopub.status.busy": "2021-01-17T18:36:14.132836Z",
     "iopub.status.idle": "2021-01-17T18:36:14.318369Z",
     "shell.execute_reply": "2021-01-17T18:36:14.318939Z"
    },
    "papermill": {
     "duration": 0.228588,
     "end_time": "2021-01-17T18:36:14.319112",
     "exception": false,
     "start_time": "2021-01-17T18:36:14.090524",
     "status": "completed"
    },
    "tags": []
   },
   "outputs": [],
   "source": [
    "model = Sequential()\n",
    "\n",
    "# CONVOLUTIONAL LAYER\n",
    "model.add(Conv2D(filters=64, kernel_size=(4,4),input_shape=(28, 28, 1), activation='relu',))\n",
    "# POOLING LAYER\n",
    "model.add(MaxPool2D(pool_size=(2, 2)))\n",
    "\n",
    "# CONVOLUTIONAL LAYER\n",
    "model.add(Conv2D(filters=64, kernel_size=(4,4),input_shape=(28, 28, 1), activation='relu',))\n",
    "# POOLING LAYER\n",
    "model.add(MaxPool2D(pool_size=(2, 2)))\n",
    "\n",
    "# FLATTEN IMAGES FROM 28 by 28 to 764 BEFORE FINAL LAYER\n",
    "model.add(Flatten())\n",
    "\n",
    "# 128 NEURONS IN DENSE HIDDEN LAYER (YOU CAN CHANGE THIS NUMBER OF NEURONS)\n",
    "model.add(Dense(128, activation='relu'))\n",
    "\n",
    "# LAST LAYER IS THE CLASSIFIER, THUS 10 POSSIBLE CLASSES\n",
    "model.add(Dense(10, activation='softmax'))\n",
    "\n",
    "# https://keras.io/metrics/\n",
    "model.compile(loss='categorical_crossentropy',\n",
    "              optimizer='adam',\n",
    "              metrics=['accuracy']) # we can add in additional metrics https://keras.io/metrics/"
   ]
  },
  {
   "cell_type": "code",
   "execution_count": 24,
   "metadata": {
    "execution": {
     "iopub.execute_input": "2021-01-17T18:36:14.410188Z",
     "iopub.status.busy": "2021-01-17T18:36:14.409129Z",
     "iopub.status.idle": "2021-01-17T18:36:14.417519Z",
     "shell.execute_reply": "2021-01-17T18:36:14.418099Z"
    },
    "papermill": {
     "duration": 0.058155,
     "end_time": "2021-01-17T18:36:14.418270",
     "exception": false,
     "start_time": "2021-01-17T18:36:14.360115",
     "status": "completed"
    },
    "tags": []
   },
   "outputs": [
    {
     "name": "stdout",
     "output_type": "stream",
     "text": [
      "Model: \"sequential\"\n",
      "_________________________________________________________________\n",
      "Layer (type)                 Output Shape              Param #   \n",
      "=================================================================\n",
      "conv2d (Conv2D)              (None, 25, 25, 64)        1088      \n",
      "_________________________________________________________________\n",
      "max_pooling2d (MaxPooling2D) (None, 12, 12, 64)        0         \n",
      "_________________________________________________________________\n",
      "conv2d_1 (Conv2D)            (None, 9, 9, 64)          65600     \n",
      "_________________________________________________________________\n",
      "max_pooling2d_1 (MaxPooling2 (None, 4, 4, 64)          0         \n",
      "_________________________________________________________________\n",
      "flatten (Flatten)            (None, 1024)              0         \n",
      "_________________________________________________________________\n",
      "dense (Dense)                (None, 128)               131200    \n",
      "_________________________________________________________________\n",
      "dense_1 (Dense)              (None, 10)                1290      \n",
      "=================================================================\n",
      "Total params: 199,178\n",
      "Trainable params: 199,178\n",
      "Non-trainable params: 0\n",
      "_________________________________________________________________\n"
     ]
    }
   ],
   "source": [
    "model.summary()"
   ]
  },
  {
   "cell_type": "markdown",
   "metadata": {
    "papermill": {
     "duration": 0.040715,
     "end_time": "2021-01-17T18:36:14.504614",
     "exception": false,
     "start_time": "2021-01-17T18:36:14.463899",
     "status": "completed"
    },
    "tags": []
   },
   "source": [
    "### Implementing early stopping"
   ]
  },
  {
   "cell_type": "code",
   "execution_count": 25,
   "metadata": {
    "execution": {
     "iopub.execute_input": "2021-01-17T18:36:14.594893Z",
     "iopub.status.busy": "2021-01-17T18:36:14.594215Z",
     "iopub.status.idle": "2021-01-17T18:36:14.597538Z",
     "shell.execute_reply": "2021-01-17T18:36:14.597023Z"
    },
    "papermill": {
     "duration": 0.051128,
     "end_time": "2021-01-17T18:36:14.597668",
     "exception": false,
     "start_time": "2021-01-17T18:36:14.546540",
     "status": "completed"
    },
    "tags": []
   },
   "outputs": [],
   "source": [
    "from tensorflow.keras.callbacks import EarlyStopping\n",
    "\n",
    "callback = EarlyStopping(monitor='val_loss',patience=1)"
   ]
  },
  {
   "cell_type": "code",
   "execution_count": 26,
   "metadata": {
    "execution": {
     "iopub.execute_input": "2021-01-17T18:36:14.688189Z",
     "iopub.status.busy": "2021-01-17T18:36:14.687185Z",
     "iopub.status.idle": "2021-01-17T18:36:14.691948Z",
     "shell.execute_reply": "2021-01-17T18:36:14.691279Z"
    },
    "papermill": {
     "duration": 0.053802,
     "end_time": "2021-01-17T18:36:14.692066",
     "exception": false,
     "start_time": "2021-01-17T18:36:14.638264",
     "status": "completed"
    },
    "tags": []
   },
   "outputs": [
    {
     "data": {
      "text/plain": [
       "(37800, 28, 28, 1)"
      ]
     },
     "execution_count": 26,
     "metadata": {},
     "output_type": "execute_result"
    }
   ],
   "source": [
    "X_train.shape"
   ]
  },
  {
   "cell_type": "code",
   "execution_count": 27,
   "metadata": {
    "execution": {
     "iopub.execute_input": "2021-01-17T18:36:14.786294Z",
     "iopub.status.busy": "2021-01-17T18:36:14.785613Z",
     "iopub.status.idle": "2021-01-17T18:38:15.428235Z",
     "shell.execute_reply": "2021-01-17T18:38:15.429209Z"
    },
    "papermill": {
     "duration": 120.693643,
     "end_time": "2021-01-17T18:38:15.429396",
     "exception": false,
     "start_time": "2021-01-17T18:36:14.735753",
     "status": "completed"
    },
    "tags": []
   },
   "outputs": [
    {
     "name": "stdout",
     "output_type": "stream",
     "text": [
      "Epoch 1/10\n",
      "1182/1182 [==============================] - 43s 36ms/step - loss: 0.1587 - accuracy: 0.9506 - val_loss: 0.0655 - val_accuracy: 0.9783\n",
      "Epoch 2/10\n",
      "1182/1182 [==============================] - 40s 34ms/step - loss: 0.0503 - accuracy: 0.9841 - val_loss: 0.0500 - val_accuracy: 0.9843\n",
      "Epoch 3/10\n",
      "1182/1182 [==============================] - 37s 31ms/step - loss: 0.0351 - accuracy: 0.9887 - val_loss: 0.0513 - val_accuracy: 0.9826\n"
     ]
    },
    {
     "data": {
      "text/plain": [
       "<tensorflow.python.keras.callbacks.History at 0x7efda1d13990>"
      ]
     },
     "execution_count": 27,
     "metadata": {},
     "output_type": "execute_result"
    }
   ],
   "source": [
    "model.fit(X_train,y_cat_train,callbacks=[callback],epochs=10,validation_data=(X_val,y_cat_val))"
   ]
  },
  {
   "cell_type": "code",
   "execution_count": 28,
   "metadata": {
    "execution": {
     "iopub.execute_input": "2021-01-17T18:38:16.723430Z",
     "iopub.status.busy": "2021-01-17T18:38:16.722621Z",
     "iopub.status.idle": "2021-01-17T18:38:16.725751Z",
     "shell.execute_reply": "2021-01-17T18:38:16.725146Z"
    },
    "papermill": {
     "duration": 0.642264,
     "end_time": "2021-01-17T18:38:16.725882",
     "exception": false,
     "start_time": "2021-01-17T18:38:16.083618",
     "status": "completed"
    },
    "tags": []
   },
   "outputs": [],
   "source": [
    "metrics = pd.DataFrame(model.history.history)"
   ]
  },
  {
   "cell_type": "code",
   "execution_count": 29,
   "metadata": {
    "execution": {
     "iopub.execute_input": "2021-01-17T18:38:18.080731Z",
     "iopub.status.busy": "2021-01-17T18:38:18.080051Z",
     "iopub.status.idle": "2021-01-17T18:38:18.320121Z",
     "shell.execute_reply": "2021-01-17T18:38:18.320858Z"
    },
    "papermill": {
     "duration": 0.94983,
     "end_time": "2021-01-17T18:38:18.321026",
     "exception": false,
     "start_time": "2021-01-17T18:38:17.371196",
     "status": "completed"
    },
    "tags": []
   },
   "outputs": [
    {
     "data": {
      "image/png": "[encoded data removed]",
      "text/plain": [
       "<Figure size 432x288 with 1 Axes>"
      ]
     },
     "metadata": {
      "needs_background": "light"
     },
     "output_type": "display_data"
    }
   ],
   "source": [
    "metrics[['loss','val_loss']].plot();"
   ]
  },
  {
   "cell_type": "code",
   "execution_count": 30,
   "metadata": {
    "execution": {
     "iopub.execute_input": "2021-01-17T18:38:19.639893Z",
     "iopub.status.busy": "2021-01-17T18:38:19.634383Z",
     "iopub.status.idle": "2021-01-17T18:38:19.845340Z",
     "shell.execute_reply": "2021-01-17T18:38:19.844590Z"
    },
    "papermill": {
     "duration": 0.855556,
     "end_time": "2021-01-17T18:38:19.845464",
     "exception": false,
     "start_time": "2021-01-17T18:38:18.989908",
     "status": "completed"
    },
    "tags": []
   },
   "outputs": [
    {
     "data": {
      "image/png": "[encoded data removed]",
      "text/plain": [
       "<Figure size 432x288 with 1 Axes>"
      ]
     },
     "metadata": {
      "needs_background": "light"
     },
     "output_type": "display_data"
    }
   ],
   "source": [
    "metrics[['accuracy','val_accuracy']].plot();"
   ]
  },
  {
   "cell_type": "code",
   "execution_count": 31,
   "metadata": {
    "execution": {
     "iopub.execute_input": "2021-01-17T18:38:21.211358Z",
     "iopub.status.busy": "2021-01-17T18:38:21.210511Z",
     "iopub.status.idle": "2021-01-17T18:38:29.941033Z",
     "shell.execute_reply": "2021-01-17T18:38:29.941525Z"
    },
    "papermill": {
     "duration": 9.375782,
     "end_time": "2021-01-17T18:38:29.941693",
     "exception": false,
     "start_time": "2021-01-17T18:38:20.565911",
     "status": "completed"
    },
    "tags": []
   },
   "outputs": [
    {
     "data": {
      "text/plain": [
       "array([6.8092540e-06, 8.4453413e-09, 6.0398230e-07, 5.5851853e-08,\n",
       "       5.1308948e-09, 1.8464910e-08, 4.6459903e-09, 3.3295208e-10,\n",
       "       9.9997544e-01, 1.7031507e-05], dtype=float32)"
      ]
     },
     "execution_count": 31,
     "metadata": {},
     "output_type": "execute_result"
    }
   ],
   "source": [
    "model.predict(X_train)[0]"
   ]
  },
  {
   "cell_type": "code",
   "execution_count": 32,
   "metadata": {
    "execution": {
     "iopub.execute_input": "2021-01-17T18:38:31.257524Z",
     "iopub.status.busy": "2021-01-17T18:38:31.256855Z",
     "iopub.status.idle": "2021-01-17T18:38:32.291105Z",
     "shell.execute_reply": "2021-01-17T18:38:32.290533Z"
    },
    "papermill": {
     "duration": 1.68192,
     "end_time": "2021-01-17T18:38:32.291229",
     "exception": false,
     "start_time": "2021-01-17T18:38:30.609309",
     "status": "completed"
    },
    "tags": []
   },
   "outputs": [
    {
     "name": "stdout",
     "output_type": "stream",
     "text": [
      "132/132 [==============================] - 1s 7ms/step - loss: 0.0513 - accuracy: 0.9826\n"
     ]
    },
    {
     "data": {
      "text/plain": [
       "[0.05126500502228737, 0.982619047164917]"
      ]
     },
     "execution_count": 32,
     "metadata": {},
     "output_type": "execute_result"
    }
   ],
   "source": [
    "model.evaluate(X_val,y_cat_val)"
   ]
  },
  {
   "cell_type": "code",
   "execution_count": 33,
   "metadata": {
    "execution": {
     "iopub.execute_input": "2021-01-17T18:38:33.597509Z",
     "iopub.status.busy": "2021-01-17T18:38:33.596834Z",
     "iopub.status.idle": "2021-01-17T18:38:34.524163Z",
     "shell.execute_reply": "2021-01-17T18:38:34.523436Z"
    },
    "papermill": {
     "duration": 1.582075,
     "end_time": "2021-01-17T18:38:34.524293",
     "exception": false,
     "start_time": "2021-01-17T18:38:32.942218",
     "status": "completed"
    },
    "tags": []
   },
   "outputs": [],
   "source": [
    "y_pred = model.predict(X_val)"
   ]
  },
  {
   "cell_type": "markdown",
   "metadata": {
    "papermill": {
     "duration": 0.67814,
     "end_time": "2021-01-17T18:38:35.869158",
     "exception": false,
     "start_time": "2021-01-17T18:38:35.191018",
     "status": "completed"
    },
    "tags": []
   },
   "source": [
    "### Evaluation"
   ]
  },
  {
   "cell_type": "code",
   "execution_count": 34,
   "metadata": {
    "execution": {
     "iopub.execute_input": "2021-01-17T18:38:37.191519Z",
     "iopub.status.busy": "2021-01-17T18:38:37.190877Z",
     "iopub.status.idle": "2021-01-17T18:38:38.155528Z",
     "shell.execute_reply": "2021-01-17T18:38:38.154911Z"
    },
    "papermill": {
     "duration": 1.62539,
     "end_time": "2021-01-17T18:38:38.155702",
     "exception": false,
     "start_time": "2021-01-17T18:38:36.530312",
     "status": "completed"
    },
    "tags": []
   },
   "outputs": [
    {
     "name": "stdout",
     "output_type": "stream",
     "text": [
      "Confusion matrix \n",
      " [[409   0   0   0   0   0   0   0   0   0]\n",
      " [  0 447   1   0   0   0   0   0   0   0]\n",
      " [  1   1 413   0   0   0   0   0   0   1]\n",
      " [  0   1   3 403   0   3   0   0   0   6]\n",
      " [  0   1   0   0 393   0   0   1   1  15]\n",
      " [  1   0   0   2   0 355   2   0   0   5]\n",
      " [  1   1   0   0   0   0 425   0   0   0]\n",
      " [  0   2   3   1   0   0   0 426   0   5]\n",
      " [  3   1   2   0   1   0   0   0 407   2]\n",
      " [  2   0   0   0   2   0   0   0   2 449]] \n",
      "\n",
      "Classification report \n",
      "               precision    recall  f1-score   support\n",
      "\n",
      "           0       0.98      1.00      0.99       409\n",
      "           1       0.98      1.00      0.99       448\n",
      "           2       0.98      0.99      0.99       416\n",
      "           3       0.99      0.97      0.98       416\n",
      "           4       0.99      0.96      0.97       411\n",
      "           5       0.99      0.97      0.98       365\n",
      "           6       1.00      1.00      1.00       427\n",
      "           7       1.00      0.97      0.99       437\n",
      "           8       0.99      0.98      0.99       416\n",
      "           9       0.93      0.99      0.96       455\n",
      "\n",
      "    accuracy                           0.98      4200\n",
      "   macro avg       0.98      0.98      0.98      4200\n",
      "weighted avg       0.98      0.98      0.98      4200\n",
      "\n"
     ]
    }
   ],
   "source": [
    "from sklearn.metrics import confusion_matrix,classification_report\n",
    "\n",
    "predictions = model.predict_classes(X_val)\n",
    "\n",
    "cm = confusion_matrix(y_val,predictions)\n",
    "cr = classification_report(y_val,predictions)\n",
    "\n",
    "print('Confusion matrix \\n {} \\n'.format(cm))\n",
    "print('Classification report \\n {}'.format(cr))"
   ]
  },
  {
   "cell_type": "code",
   "execution_count": 35,
   "metadata": {
    "execution": {
     "iopub.execute_input": "2021-01-17T18:38:39.544999Z",
     "iopub.status.busy": "2021-01-17T18:38:39.544302Z",
     "iopub.status.idle": "2021-01-17T18:38:40.295771Z",
     "shell.execute_reply": "2021-01-17T18:38:40.295108Z"
    },
    "papermill": {
     "duration": 1.465056,
     "end_time": "2021-01-17T18:38:40.295908",
     "exception": false,
     "start_time": "2021-01-17T18:38:38.830852",
     "status": "completed"
    },
    "tags": []
   },
   "outputs": [
    {
     "data": {
      "image/png": "[encoded data removed]",
      "text/plain": [
       "<Figure size 864x576 with 2 Axes>"
      ]
     },
     "metadata": {
      "needs_background": "light"
     },
     "output_type": "display_data"
    }
   ],
   "source": [
    "import seaborn as sns\n",
    "\n",
    "plt.figure(figsize = (12,8))\n",
    "sns.heatmap(cm,annot=True);"
   ]
  },
  {
   "cell_type": "code",
   "execution_count": null,
   "metadata": {
    "papermill": {
     "duration": 0.648993,
     "end_time": "2021-01-17T18:38:41.609033",
     "exception": false,
     "start_time": "2021-01-17T18:38:40.960040",
     "status": "completed"
    },
    "tags": []
   },
   "outputs": [],
   "source": []
  },
  {
   "cell_type": "code",
   "execution_count": 36,
   "metadata": {
    "execution": {
     "iopub.execute_input": "2021-01-17T18:38:42.923769Z",
     "iopub.status.busy": "2021-01-17T18:38:42.922561Z",
     "iopub.status.idle": "2021-01-17T18:38:42.927672Z",
     "shell.execute_reply": "2021-01-17T18:38:42.927121Z"
    },
    "papermill": {
     "duration": 0.656543,
     "end_time": "2021-01-17T18:38:42.927788",
     "exception": false,
     "start_time": "2021-01-17T18:38:42.271245",
     "status": "completed"
    },
    "tags": []
   },
   "outputs": [
    {
     "data": {
      "text/plain": [
       "(28000, 28, 28, 1)"
      ]
     },
     "execution_count": 36,
     "metadata": {},
     "output_type": "execute_result"
    }
   ],
   "source": [
    "X_test.shape"
   ]
  },
  {
   "cell_type": "markdown",
   "metadata": {
    "papermill": {
     "duration": 0.651445,
     "end_time": "2021-01-17T18:38:44.266853",
     "exception": false,
     "start_time": "2021-01-17T18:38:43.615408",
     "status": "completed"
    },
    "tags": []
   },
   "source": [
    "## Submission evaluation"
   ]
  },
  {
   "cell_type": "code",
   "execution_count": 37,
   "metadata": {
    "execution": {
     "iopub.execute_input": "2021-01-17T18:38:45.582722Z",
     "iopub.status.busy": "2021-01-17T18:38:45.581565Z",
     "iopub.status.idle": "2021-01-17T18:38:52.412687Z",
     "shell.execute_reply": "2021-01-17T18:38:52.412049Z"
    },
    "papermill": {
     "duration": 7.496884,
     "end_time": "2021-01-17T18:38:52.413149",
     "exception": false,
     "start_time": "2021-01-17T18:38:44.916265",
     "status": "completed"
    },
    "tags": []
   },
   "outputs": [],
   "source": [
    "test_pred = pd.Series(model.predict_classes(X_test),name = 'Label')"
   ]
  },
  {
   "cell_type": "code",
   "execution_count": 38,
   "metadata": {
    "execution": {
     "iopub.execute_input": "2021-01-17T18:38:53.784270Z",
     "iopub.status.busy": "2021-01-17T18:38:53.783311Z",
     "iopub.status.idle": "2021-01-17T18:38:53.790582Z",
     "shell.execute_reply": "2021-01-17T18:38:53.789947Z"
    },
    "papermill": {
     "duration": 0.679281,
     "end_time": "2021-01-17T18:38:53.790705",
     "exception": false,
     "start_time": "2021-01-17T18:38:53.111424",
     "status": "completed"
    },
    "tags": []
   },
   "outputs": [],
   "source": [
    "ImageId = pd.DataFrame(np.arange(1,28001),columns=['ImageId'])"
   ]
  },
  {
   "cell_type": "code",
   "execution_count": 39,
   "metadata": {
    "execution": {
     "iopub.execute_input": "2021-01-17T18:38:55.124526Z",
     "iopub.status.busy": "2021-01-17T18:38:55.122935Z",
     "iopub.status.idle": "2021-01-17T18:38:55.126767Z",
     "shell.execute_reply": "2021-01-17T18:38:55.126250Z"
    },
    "papermill": {
     "duration": 0.678605,
     "end_time": "2021-01-17T18:38:55.126907",
     "exception": false,
     "start_time": "2021-01-17T18:38:54.448302",
     "status": "completed"
    },
    "tags": []
   },
   "outputs": [],
   "source": [
    "final_pred = pd.concat([ImageId,test_pred],axis=1)"
   ]
  },
  {
   "cell_type": "code",
   "execution_count": 40,
   "metadata": {
    "execution": {
     "iopub.execute_input": "2021-01-17T18:38:56.481038Z",
     "iopub.status.busy": "2021-01-17T18:38:56.480269Z",
     "iopub.status.idle": "2021-01-17T18:38:56.485475Z",
     "shell.execute_reply": "2021-01-17T18:38:56.486028Z"
    },
    "papermill": {
     "duration": 0.684263,
     "end_time": "2021-01-17T18:38:56.486181",
     "exception": false,
     "start_time": "2021-01-17T18:38:55.801918",
     "status": "completed"
    },
    "tags": []
   },
   "outputs": [
    {
     "data": {
      "text/html": [
       "<div>\n",
       "<style scoped>\n",
       "    .dataframe tbody tr th:only-of-type {\n",
       "        vertical-align: middle;\n",
       "    }\n",
       "\n",
       "    .dataframe tbody tr th {\n",
       "        vertical-align: top;\n",
       "    }\n",
       "\n",
       "    .dataframe thead th {\n",
       "        text-align: right;\n",
       "    }\n",
       "</style>\n",
       "<table border=\"1\" class=\"dataframe\">\n",
       "  <thead>\n",
       "    <tr style=\"text-align: right;\">\n",
       "      <th></th>\n",
       "      <th>ImageId</th>\n",
       "      <th>Label</th>\n",
       "    </tr>\n",
       "  </thead>\n",
       "  <tbody>\n",
       "    <tr>\n",
       "      <th>0</th>\n",
       "      <td>1</td>\n",
       "      <td>2</td>\n",
       "    </tr>\n",
       "    <tr>\n",
       "      <th>1</th>\n",
       "      <td>2</td>\n",
       "      <td>0</td>\n",
       "    </tr>\n",
       "    <tr>\n",
       "      <th>2</th>\n",
       "      <td>3</td>\n",
       "      <td>9</td>\n",
       "    </tr>\n",
       "    <tr>\n",
       "      <th>3</th>\n",
       "      <td>4</td>\n",
       "      <td>9</td>\n",
       "    </tr>\n",
       "    <tr>\n",
       "      <th>4</th>\n",
       "      <td>5</td>\n",
       "      <td>3</td>\n",
       "    </tr>\n",
       "    <tr>\n",
       "      <th>...</th>\n",
       "      <td>...</td>\n",
       "      <td>...</td>\n",
       "    </tr>\n",
       "    <tr>\n",
       "      <th>27995</th>\n",
       "      <td>27996</td>\n",
       "      <td>9</td>\n",
       "    </tr>\n",
       "    <tr>\n",
       "      <th>27996</th>\n",
       "      <td>27997</td>\n",
       "      <td>7</td>\n",
       "    </tr>\n",
       "    <tr>\n",
       "      <th>27997</th>\n",
       "      <td>27998</td>\n",
       "      <td>3</td>\n",
       "    </tr>\n",
       "    <tr>\n",
       "      <th>27998</th>\n",
       "      <td>27999</td>\n",
       "      <td>9</td>\n",
       "    </tr>\n",
       "    <tr>\n",
       "      <th>27999</th>\n",
       "      <td>28000</td>\n",
       "      <td>2</td>\n",
       "    </tr>\n",
       "  </tbody>\n",
       "</table>\n",
       "<p>28000 rows × 2 columns</p>\n",
       "</div>"
      ],
      "text/plain": [
       "       ImageId  Label\n",
       "0            1      2\n",
       "1            2      0\n",
       "2            3      9\n",
       "3            4      9\n",
       "4            5      3\n",
       "...        ...    ...\n",
       "27995    27996      9\n",
       "27996    27997      7\n",
       "27997    27998      3\n",
       "27998    27999      9\n",
       "27999    28000      2\n",
       "\n",
       "[28000 rows x 2 columns]"
      ]
     },
     "execution_count": 40,
     "metadata": {},
     "output_type": "execute_result"
    }
   ],
   "source": [
    "final_pred"
   ]
  },
  {
   "cell_type": "code",
   "execution_count": 41,
   "metadata": {
    "execution": {
     "iopub.execute_input": "2021-01-17T18:38:57.828665Z",
     "iopub.status.busy": "2021-01-17T18:38:57.827703Z",
     "iopub.status.idle": "2021-01-17T18:38:58.178420Z",
     "shell.execute_reply": "2021-01-17T18:38:58.178983Z"
    },
    "papermill": {
     "duration": 1.017704,
     "end_time": "2021-01-17T18:38:58.179136",
     "exception": false,
     "start_time": "2021-01-17T18:38:57.161432",
     "status": "completed"
    },
    "tags": []
   },
   "outputs": [],
   "source": [
    "final_pred.to_csv('submission.csv',index=False)"
   ]
  }
 ],
 "metadata": {
  "kernelspec": {
   "display_name": "Python 3",
   "language": "python",
   "name": "python3"
  },
  "language_info": {
   "codemirror_mode": {
    "name": "ipython",
    "version": 3
   },
   "file_extension": ".py",
   "mimetype": "text/x-python",
   "name": "python",
   "nbconvert_exporter": "python",
   "pygments_lexer": "ipython3",
   "version": "3.7.6"
  },
  "papermill": {
   "duration": 193.290389,
   "end_time": "2021-01-17T18:38:59.011527",
   "environment_variables": {},
   "exception": null,
   "input_path": "__notebook__.ipynb",
   "output_path": "__notebook__.ipynb",
   "parameters": {},
   "start_time": "2021-01-17T18:35:45.721138",
   "version": "2.1.0"
  }
 },
 "nbformat": 4,
 "nbformat_minor": 4
}
