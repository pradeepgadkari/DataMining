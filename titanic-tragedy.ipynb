{
 "cells": [
  {
   "cell_type": "markdown",
   "metadata": {
    "papermill": {
     "duration": 0.035557,
     "end_time": "2021-01-12T13:56:44.564119",
     "exception": false,
     "start_time": "2021-01-12T13:56:44.528562",
     "status": "completed"
    },
    "tags": []
   },
   "source": [
    "# Importing libraries"
   ]
  },
  {
   "cell_type": "code",
   "execution_count": 1,
   "metadata": {
    "_cell_guid": "b1076dfc-b9ad-4769-8c92-a6c4dae69d19",
    "_uuid": "8f2839f25d086af736a60e9eeb907d3b93b6e0e5",
    "execution": {
     "iopub.execute_input": "2021-01-12T13:56:44.639670Z",
     "iopub.status.busy": "2021-01-12T13:56:44.638869Z",
     "iopub.status.idle": "2021-01-12T13:56:45.729832Z",
     "shell.execute_reply": "2021-01-12T13:56:45.729105Z"
    },
    "papermill": {
     "duration": 1.131365,
     "end_time": "2021-01-12T13:56:45.729947",
     "exception": false,
     "start_time": "2021-01-12T13:56:44.598582",
     "status": "completed"
    },
    "tags": []
   },
   "outputs": [],
   "source": [
    "import numpy as np # linear algebra\n",
    "import pandas as pd # data processing, CSV file I/O (e.g. pd.read_csv)\n",
    "import matplotlib.pyplot as plt\n",
    "import seaborn as sns"
   ]
  },
  {
   "cell_type": "markdown",
   "metadata": {
    "papermill": {
     "duration": 0.034772,
     "end_time": "2021-01-12T13:56:45.801790",
     "exception": false,
     "start_time": "2021-01-12T13:56:45.767018",
     "status": "completed"
    },
    "tags": []
   },
   "source": [
    "# Importing Dataset"
   ]
  },
  {
   "cell_type": "code",
   "execution_count": 2,
   "metadata": {
    "_cell_guid": "79c7e3d0-c299-4dcb-8224-4455121ee9b0",
    "_uuid": "d629ff2d2480ee46fbb7e2d37f6b5fab8052498a",
    "execution": {
     "iopub.execute_input": "2021-01-12T13:56:45.880089Z",
     "iopub.status.busy": "2021-01-12T13:56:45.879419Z",
     "iopub.status.idle": "2021-01-12T13:56:45.908189Z",
     "shell.execute_reply": "2021-01-12T13:56:45.907563Z"
    },
    "papermill": {
     "duration": 0.07146,
     "end_time": "2021-01-12T13:56:45.908327",
     "exception": false,
     "start_time": "2021-01-12T13:56:45.836867",
     "status": "completed"
    },
    "tags": []
   },
   "outputs": [],
   "source": [
    "train = pd.read_csv('../input/titanic/train.csv')\n",
    "test = pd.read_csv('../input/titanic/test.csv')"
   ]
  },
  {
   "cell_type": "markdown",
   "metadata": {
    "papermill": {
     "duration": 0.035523,
     "end_time": "2021-01-12T13:56:45.979589",
     "exception": false,
     "start_time": "2021-01-12T13:56:45.944066",
     "status": "completed"
    },
    "tags": []
   },
   "source": [
    "# Data Analysis"
   ]
  },
  {
   "cell_type": "code",
   "execution_count": 3,
   "metadata": {
    "execution": {
     "iopub.execute_input": "2021-01-12T13:56:46.073588Z",
     "iopub.status.busy": "2021-01-12T13:56:46.068019Z",
     "iopub.status.idle": "2021-01-12T13:56:46.086046Z",
     "shell.execute_reply": "2021-01-12T13:56:46.085405Z"
    },
    "papermill": {
     "duration": 0.070727,
     "end_time": "2021-01-12T13:56:46.086156",
     "exception": false,
     "start_time": "2021-01-12T13:56:46.015429",
     "status": "completed"
    },
    "tags": []
   },
   "outputs": [
    {
     "data": {
      "text/html": [
       "<div>\n",
       "<style scoped>\n",
       "    .dataframe tbody tr th:only-of-type {\n",
       "        vertical-align: middle;\n",
       "    }\n",
       "\n",
       "    .dataframe tbody tr th {\n",
       "        vertical-align: top;\n",
       "    }\n",
       "\n",
       "    .dataframe thead th {\n",
       "        text-align: right;\n",
       "    }\n",
       "</style>\n",
       "<table border=\"1\" class=\"dataframe\">\n",
       "  <thead>\n",
       "    <tr style=\"text-align: right;\">\n",
       "      <th></th>\n",
       "      <th>PassengerId</th>\n",
       "      <th>Survived</th>\n",
       "      <th>Pclass</th>\n",
       "      <th>Name</th>\n",
       "      <th>Sex</th>\n",
       "      <th>Age</th>\n",
       "      <th>SibSp</th>\n",
       "      <th>Parch</th>\n",
       "      <th>Ticket</th>\n",
       "      <th>Fare</th>\n",
       "      <th>Cabin</th>\n",
       "      <th>Embarked</th>\n",
       "    </tr>\n",
       "  </thead>\n",
       "  <tbody>\n",
       "    <tr>\n",
       "      <th>0</th>\n",
       "      <td>1</td>\n",
       "      <td>0</td>\n",
       "      <td>3</td>\n",
       "      <td>Braund, Mr. Owen Harris</td>\n",
       "      <td>male</td>\n",
       "      <td>22.0</td>\n",
       "      <td>1</td>\n",
       "      <td>0</td>\n",
       "      <td>A/5 21171</td>\n",
       "      <td>7.2500</td>\n",
       "      <td>NaN</td>\n",
       "      <td>S</td>\n",
       "    </tr>\n",
       "    <tr>\n",
       "      <th>1</th>\n",
       "      <td>2</td>\n",
       "      <td>1</td>\n",
       "      <td>1</td>\n",
       "      <td>Cumings, Mrs. John Bradley (Florence Briggs Th...</td>\n",
       "      <td>female</td>\n",
       "      <td>38.0</td>\n",
       "      <td>1</td>\n",
       "      <td>0</td>\n",
       "      <td>PC 17599</td>\n",
       "      <td>71.2833</td>\n",
       "      <td>C85</td>\n",
       "      <td>C</td>\n",
       "    </tr>\n",
       "    <tr>\n",
       "      <th>2</th>\n",
       "      <td>3</td>\n",
       "      <td>1</td>\n",
       "      <td>3</td>\n",
       "      <td>Heikkinen, Miss. Laina</td>\n",
       "      <td>female</td>\n",
       "      <td>26.0</td>\n",
       "      <td>0</td>\n",
       "      <td>0</td>\n",
       "      <td>STON/O2. 3101282</td>\n",
       "      <td>7.9250</td>\n",
       "      <td>NaN</td>\n",
       "      <td>S</td>\n",
       "    </tr>\n",
       "    <tr>\n",
       "      <th>3</th>\n",
       "      <td>4</td>\n",
       "      <td>1</td>\n",
       "      <td>1</td>\n",
       "      <td>Futrelle, Mrs. Jacques Heath (Lily May Peel)</td>\n",
       "      <td>female</td>\n",
       "      <td>35.0</td>\n",
       "      <td>1</td>\n",
       "      <td>0</td>\n",
       "      <td>113803</td>\n",
       "      <td>53.1000</td>\n",
       "      <td>C123</td>\n",
       "      <td>S</td>\n",
       "    </tr>\n",
       "    <tr>\n",
       "      <th>4</th>\n",
       "      <td>5</td>\n",
       "      <td>0</td>\n",
       "      <td>3</td>\n",
       "      <td>Allen, Mr. William Henry</td>\n",
       "      <td>male</td>\n",
       "      <td>35.0</td>\n",
       "      <td>0</td>\n",
       "      <td>0</td>\n",
       "      <td>373450</td>\n",
       "      <td>8.0500</td>\n",
       "      <td>NaN</td>\n",
       "      <td>S</td>\n",
       "    </tr>\n",
       "  </tbody>\n",
       "</table>\n",
       "</div>"
      ],
      "text/plain": [
       "   PassengerId  Survived  Pclass  \\\n",
       "0            1         0       3   \n",
       "1            2         1       1   \n",
       "2            3         1       3   \n",
       "3            4         1       1   \n",
       "4            5         0       3   \n",
       "\n",
       "                                                Name     Sex   Age  SibSp  \\\n",
       "0                            Braund, Mr. Owen Harris    male  22.0      1   \n",
       "1  Cumings, Mrs. John Bradley (Florence Briggs Th...  female  38.0      1   \n",
       "2                             Heikkinen, Miss. Laina  female  26.0      0   \n",
       "3       Futrelle, Mrs. Jacques Heath (Lily May Peel)  female  35.0      1   \n",
       "4                           Allen, Mr. William Henry    male  35.0      0   \n",
       "\n",
       "   Parch            Ticket     Fare Cabin Embarked  \n",
       "0      0         A/5 21171   7.2500   NaN        S  \n",
       "1      0          PC 17599  71.2833   C85        C  \n",
       "2      0  STON/O2. 3101282   7.9250   NaN        S  \n",
       "3      0            113803  53.1000  C123        S  \n",
       "4      0            373450   8.0500   NaN        S  "
      ]
     },
     "execution_count": 3,
     "metadata": {},
     "output_type": "execute_result"
    }
   ],
   "source": [
    "train.head()"
   ]
  },
  {
   "cell_type": "code",
   "execution_count": 4,
   "metadata": {
    "execution": {
     "iopub.execute_input": "2021-01-12T13:56:46.174585Z",
     "iopub.status.busy": "2021-01-12T13:56:46.173739Z",
     "iopub.status.idle": "2021-01-12T13:56:46.178076Z",
     "shell.execute_reply": "2021-01-12T13:56:46.178695Z"
    },
    "papermill": {
     "duration": 0.05635,
     "end_time": "2021-01-12T13:56:46.178845",
     "exception": false,
     "start_time": "2021-01-12T13:56:46.122495",
     "status": "completed"
    },
    "tags": []
   },
   "outputs": [
    {
     "name": "stdout",
     "output_type": "stream",
     "text": [
      "<class 'pandas.core.frame.DataFrame'>\n",
      "RangeIndex: 891 entries, 0 to 890\n",
      "Data columns (total 12 columns):\n",
      " #   Column       Non-Null Count  Dtype  \n",
      "---  ------       --------------  -----  \n",
      " 0   PassengerId  891 non-null    int64  \n",
      " 1   Survived     891 non-null    int64  \n",
      " 2   Pclass       891 non-null    int64  \n",
      " 3   Name         891 non-null    object \n",
      " 4   Sex          891 non-null    object \n",
      " 5   Age          714 non-null    float64\n",
      " 6   SibSp        891 non-null    int64  \n",
      " 7   Parch        891 non-null    int64  \n",
      " 8   Ticket       891 non-null    object \n",
      " 9   Fare         891 non-null    float64\n",
      " 10  Cabin        204 non-null    object \n",
      " 11  Embarked     889 non-null    object \n",
      "dtypes: float64(2), int64(5), object(5)\n",
      "memory usage: 83.7+ KB\n"
     ]
    }
   ],
   "source": [
    "train.info()"
   ]
  },
  {
   "cell_type": "code",
   "execution_count": 5,
   "metadata": {
    "execution": {
     "iopub.execute_input": "2021-01-12T13:56:46.259926Z",
     "iopub.status.busy": "2021-01-12T13:56:46.259053Z",
     "iopub.status.idle": "2021-01-12T13:56:46.288715Z",
     "shell.execute_reply": "2021-01-12T13:56:46.288167Z"
    },
    "papermill": {
     "duration": 0.073268,
     "end_time": "2021-01-12T13:56:46.288832",
     "exception": false,
     "start_time": "2021-01-12T13:56:46.215564",
     "status": "completed"
    },
    "tags": []
   },
   "outputs": [
    {
     "data": {
      "text/html": [
       "<div>\n",
       "<style scoped>\n",
       "    .dataframe tbody tr th:only-of-type {\n",
       "        vertical-align: middle;\n",
       "    }\n",
       "\n",
       "    .dataframe tbody tr th {\n",
       "        vertical-align: top;\n",
       "    }\n",
       "\n",
       "    .dataframe thead th {\n",
       "        text-align: right;\n",
       "    }\n",
       "</style>\n",
       "<table border=\"1\" class=\"dataframe\">\n",
       "  <thead>\n",
       "    <tr style=\"text-align: right;\">\n",
       "      <th></th>\n",
       "      <th>PassengerId</th>\n",
       "      <th>Survived</th>\n",
       "      <th>Pclass</th>\n",
       "      <th>Age</th>\n",
       "      <th>SibSp</th>\n",
       "      <th>Parch</th>\n",
       "      <th>Fare</th>\n",
       "    </tr>\n",
       "  </thead>\n",
       "  <tbody>\n",
       "    <tr>\n",
       "      <th>count</th>\n",
       "      <td>891.000000</td>\n",
       "      <td>891.000000</td>\n",
       "      <td>891.000000</td>\n",
       "      <td>714.000000</td>\n",
       "      <td>891.000000</td>\n",
       "      <td>891.000000</td>\n",
       "      <td>891.000000</td>\n",
       "    </tr>\n",
       "    <tr>\n",
       "      <th>mean</th>\n",
       "      <td>446.000000</td>\n",
       "      <td>0.383838</td>\n",
       "      <td>2.308642</td>\n",
       "      <td>29.699118</td>\n",
       "      <td>0.523008</td>\n",
       "      <td>0.381594</td>\n",
       "      <td>32.204208</td>\n",
       "    </tr>\n",
       "    <tr>\n",
       "      <th>std</th>\n",
       "      <td>257.353842</td>\n",
       "      <td>0.486592</td>\n",
       "      <td>0.836071</td>\n",
       "      <td>14.526497</td>\n",
       "      <td>1.102743</td>\n",
       "      <td>0.806057</td>\n",
       "      <td>49.693429</td>\n",
       "    </tr>\n",
       "    <tr>\n",
       "      <th>min</th>\n",
       "      <td>1.000000</td>\n",
       "      <td>0.000000</td>\n",
       "      <td>1.000000</td>\n",
       "      <td>0.420000</td>\n",
       "      <td>0.000000</td>\n",
       "      <td>0.000000</td>\n",
       "      <td>0.000000</td>\n",
       "    </tr>\n",
       "    <tr>\n",
       "      <th>25%</th>\n",
       "      <td>223.500000</td>\n",
       "      <td>0.000000</td>\n",
       "      <td>2.000000</td>\n",
       "      <td>20.125000</td>\n",
       "      <td>0.000000</td>\n",
       "      <td>0.000000</td>\n",
       "      <td>7.910400</td>\n",
       "    </tr>\n",
       "    <tr>\n",
       "      <th>50%</th>\n",
       "      <td>446.000000</td>\n",
       "      <td>0.000000</td>\n",
       "      <td>3.000000</td>\n",
       "      <td>28.000000</td>\n",
       "      <td>0.000000</td>\n",
       "      <td>0.000000</td>\n",
       "      <td>14.454200</td>\n",
       "    </tr>\n",
       "    <tr>\n",
       "      <th>75%</th>\n",
       "      <td>668.500000</td>\n",
       "      <td>1.000000</td>\n",
       "      <td>3.000000</td>\n",
       "      <td>38.000000</td>\n",
       "      <td>1.000000</td>\n",
       "      <td>0.000000</td>\n",
       "      <td>31.000000</td>\n",
       "    </tr>\n",
       "    <tr>\n",
       "      <th>max</th>\n",
       "      <td>891.000000</td>\n",
       "      <td>1.000000</td>\n",
       "      <td>3.000000</td>\n",
       "      <td>80.000000</td>\n",
       "      <td>8.000000</td>\n",
       "      <td>6.000000</td>\n",
       "      <td>512.329200</td>\n",
       "    </tr>\n",
       "  </tbody>\n",
       "</table>\n",
       "</div>"
      ],
      "text/plain": [
       "       PassengerId    Survived      Pclass         Age       SibSp  \\\n",
       "count   891.000000  891.000000  891.000000  714.000000  891.000000   \n",
       "mean    446.000000    0.383838    2.308642   29.699118    0.523008   \n",
       "std     257.353842    0.486592    0.836071   14.526497    1.102743   \n",
       "min       1.000000    0.000000    1.000000    0.420000    0.000000   \n",
       "25%     223.500000    0.000000    2.000000   20.125000    0.000000   \n",
       "50%     446.000000    0.000000    3.000000   28.000000    0.000000   \n",
       "75%     668.500000    1.000000    3.000000   38.000000    1.000000   \n",
       "max     891.000000    1.000000    3.000000   80.000000    8.000000   \n",
       "\n",
       "            Parch        Fare  \n",
       "count  891.000000  891.000000  \n",
       "mean     0.381594   32.204208  \n",
       "std      0.806057   49.693429  \n",
       "min      0.000000    0.000000  \n",
       "25%      0.000000    7.910400  \n",
       "50%      0.000000   14.454200  \n",
       "75%      0.000000   31.000000  \n",
       "max      6.000000  512.329200  "
      ]
     },
     "execution_count": 5,
     "metadata": {},
     "output_type": "execute_result"
    }
   ],
   "source": [
    "train.describe()"
   ]
  },
  {
   "cell_type": "code",
   "execution_count": 6,
   "metadata": {
    "execution": {
     "iopub.execute_input": "2021-01-12T13:56:46.374162Z",
     "iopub.status.busy": "2021-01-12T13:56:46.373228Z",
     "iopub.status.idle": "2021-01-12T13:56:46.413841Z",
     "shell.execute_reply": "2021-01-12T13:56:46.414326Z"
    },
    "papermill": {
     "duration": 0.08829,
     "end_time": "2021-01-12T13:56:46.414478",
     "exception": false,
     "start_time": "2021-01-12T13:56:46.326188",
     "status": "completed"
    },
    "tags": []
   },
   "outputs": [
    {
     "data": {
      "text/html": [
       "<div>\n",
       "<style scoped>\n",
       "    .dataframe tbody tr th:only-of-type {\n",
       "        vertical-align: middle;\n",
       "    }\n",
       "\n",
       "    .dataframe tbody tr th {\n",
       "        vertical-align: top;\n",
       "    }\n",
       "\n",
       "    .dataframe thead th {\n",
       "        text-align: right;\n",
       "    }\n",
       "</style>\n",
       "<table border=\"1\" class=\"dataframe\">\n",
       "  <thead>\n",
       "    <tr style=\"text-align: right;\">\n",
       "      <th></th>\n",
       "      <th>Name</th>\n",
       "      <th>Sex</th>\n",
       "      <th>Ticket</th>\n",
       "      <th>Cabin</th>\n",
       "      <th>Embarked</th>\n",
       "    </tr>\n",
       "  </thead>\n",
       "  <tbody>\n",
       "    <tr>\n",
       "      <th>count</th>\n",
       "      <td>891</td>\n",
       "      <td>891</td>\n",
       "      <td>891</td>\n",
       "      <td>204</td>\n",
       "      <td>889</td>\n",
       "    </tr>\n",
       "    <tr>\n",
       "      <th>unique</th>\n",
       "      <td>891</td>\n",
       "      <td>2</td>\n",
       "      <td>681</td>\n",
       "      <td>147</td>\n",
       "      <td>3</td>\n",
       "    </tr>\n",
       "    <tr>\n",
       "      <th>top</th>\n",
       "      <td>Smart, Mr. John Montgomery</td>\n",
       "      <td>male</td>\n",
       "      <td>347082</td>\n",
       "      <td>B96 B98</td>\n",
       "      <td>S</td>\n",
       "    </tr>\n",
       "    <tr>\n",
       "      <th>freq</th>\n",
       "      <td>1</td>\n",
       "      <td>577</td>\n",
       "      <td>7</td>\n",
       "      <td>4</td>\n",
       "      <td>644</td>\n",
       "    </tr>\n",
       "  </tbody>\n",
       "</table>\n",
       "</div>"
      ],
      "text/plain": [
       "                              Name   Sex  Ticket    Cabin Embarked\n",
       "count                          891   891     891      204      889\n",
       "unique                         891     2     681      147        3\n",
       "top     Smart, Mr. John Montgomery  male  347082  B96 B98        S\n",
       "freq                             1   577       7        4      644"
      ]
     },
     "execution_count": 6,
     "metadata": {},
     "output_type": "execute_result"
    }
   ],
   "source": [
    "train.describe(include='O')"
   ]
  },
  {
   "cell_type": "code",
   "execution_count": 7,
   "metadata": {
    "execution": {
     "iopub.execute_input": "2021-01-12T13:56:46.493561Z",
     "iopub.status.busy": "2021-01-12T13:56:46.492574Z",
     "iopub.status.idle": "2021-01-12T13:56:46.501500Z",
     "shell.execute_reply": "2021-01-12T13:56:46.500955Z"
    },
    "papermill": {
     "duration": 0.049678,
     "end_time": "2021-01-12T13:56:46.501618",
     "exception": false,
     "start_time": "2021-01-12T13:56:46.451940",
     "status": "completed"
    },
    "tags": []
   },
   "outputs": [
    {
     "data": {
      "text/plain": [
       "PassengerId      0\n",
       "Survived         0\n",
       "Pclass           0\n",
       "Name             0\n",
       "Sex              0\n",
       "Age            177\n",
       "SibSp            0\n",
       "Parch            0\n",
       "Ticket           0\n",
       "Fare             0\n",
       "Cabin          687\n",
       "Embarked         2\n",
       "dtype: int64"
      ]
     },
     "execution_count": 7,
     "metadata": {},
     "output_type": "execute_result"
    }
   ],
   "source": [
    "train.isnull().sum()"
   ]
  },
  {
   "cell_type": "code",
   "execution_count": 8,
   "metadata": {
    "execution": {
     "iopub.execute_input": "2021-01-12T13:56:46.585413Z",
     "iopub.status.busy": "2021-01-12T13:56:46.584451Z",
     "iopub.status.idle": "2021-01-12T13:56:46.588246Z",
     "shell.execute_reply": "2021-01-12T13:56:46.588753Z"
    },
    "papermill": {
     "duration": 0.049552,
     "end_time": "2021-01-12T13:56:46.588893",
     "exception": false,
     "start_time": "2021-01-12T13:56:46.539341",
     "status": "completed"
    },
    "tags": []
   },
   "outputs": [
    {
     "data": {
      "text/plain": [
       "S    644\n",
       "C    168\n",
       "Q     77\n",
       "Name: Embarked, dtype: int64"
      ]
     },
     "execution_count": 8,
     "metadata": {},
     "output_type": "execute_result"
    }
   ],
   "source": [
    "train['Embarked'].value_counts()"
   ]
  },
  {
   "cell_type": "code",
   "execution_count": 9,
   "metadata": {
    "execution": {
     "iopub.execute_input": "2021-01-12T13:56:46.669483Z",
     "iopub.status.busy": "2021-01-12T13:56:46.668501Z",
     "iopub.status.idle": "2021-01-12T13:56:46.867971Z",
     "shell.execute_reply": "2021-01-12T13:56:46.867265Z"
    },
    "papermill": {
     "duration": 0.240854,
     "end_time": "2021-01-12T13:56:46.868105",
     "exception": false,
     "start_time": "2021-01-12T13:56:46.627251",
     "status": "completed"
    },
    "tags": []
   },
   "outputs": [
    {
     "data": {
      "image/png": "[encoded data removed]",
      "text/plain": [
       "<Figure size 432x288 with 1 Axes>"
      ]
     },
     "metadata": {
      "needs_background": "light"
     },
     "output_type": "display_data"
    }
   ],
   "source": [
    "sns.countplot('Pclass',hue = 'Sex',data=train);"
   ]
  },
  {
   "cell_type": "code",
   "execution_count": 10,
   "metadata": {
    "execution": {
     "iopub.execute_input": "2021-01-12T13:56:46.967535Z",
     "iopub.status.busy": "2021-01-12T13:56:46.953423Z",
     "iopub.status.idle": "2021-01-12T13:56:47.215085Z",
     "shell.execute_reply": "2021-01-12T13:56:47.214535Z"
    },
    "papermill": {
     "duration": 0.307042,
     "end_time": "2021-01-12T13:56:47.215295",
     "exception": false,
     "start_time": "2021-01-12T13:56:46.908253",
     "status": "completed"
    },
    "tags": []
   },
   "outputs": [
    {
     "data": {
      "image/png": "[encoded data removed]",
      "text/plain": [
       "<Figure size 864x576 with 1 Axes>"
      ]
     },
     "metadata": {
      "needs_background": "light"
     },
     "output_type": "display_data"
    }
   ],
   "source": [
    "plt.figure(figsize=(12,8))\n",
    "sns.scatterplot('Age','Fare',hue = 'Survived',data=train,alpha=0.5);"
   ]
  },
  {
   "cell_type": "code",
   "execution_count": 11,
   "metadata": {
    "execution": {
     "iopub.execute_input": "2021-01-12T13:56:47.310749Z",
     "iopub.status.busy": "2021-01-12T13:56:47.304830Z",
     "iopub.status.idle": "2021-01-12T13:56:47.528010Z",
     "shell.execute_reply": "2021-01-12T13:56:47.527427Z"
    },
    "papermill": {
     "duration": 0.270576,
     "end_time": "2021-01-12T13:56:47.528121",
     "exception": false,
     "start_time": "2021-01-12T13:56:47.257545",
     "status": "completed"
    },
    "tags": []
   },
   "outputs": [
    {
     "data": {
      "image/png": "[encoded data removed]",
      "text/plain": [
       "<Figure size 432x288 with 1 Axes>"
      ]
     },
     "metadata": {
      "needs_background": "light"
     },
     "output_type": "display_data"
    }
   ],
   "source": [
    "sns.distplot(train['Age'],bins=40);"
   ]
  },
  {
   "cell_type": "code",
   "execution_count": 12,
   "metadata": {
    "execution": {
     "iopub.execute_input": "2021-01-12T13:56:47.621063Z",
     "iopub.status.busy": "2021-01-12T13:56:47.619978Z",
     "iopub.status.idle": "2021-01-12T13:56:47.984586Z",
     "shell.execute_reply": "2021-01-12T13:56:47.983873Z"
    },
    "papermill": {
     "duration": 0.413989,
     "end_time": "2021-01-12T13:56:47.984705",
     "exception": false,
     "start_time": "2021-01-12T13:56:47.570716",
     "status": "completed"
    },
    "tags": []
   },
   "outputs": [
    {
     "data": {
      "image/png": "[encoded data removed]",
      "text/plain": [
       "<Figure size 432x288 with 1 Axes>"
      ]
     },
     "metadata": {
      "needs_background": "light"
     },
     "output_type": "display_data"
    }
   ],
   "source": [
    "sns.barplot('Pclass','Survived',data = train,hue='Sex');"
   ]
  },
  {
   "cell_type": "code",
   "execution_count": 13,
   "metadata": {
    "execution": {
     "iopub.execute_input": "2021-01-12T13:56:48.081357Z",
     "iopub.status.busy": "2021-01-12T13:56:48.080488Z",
     "iopub.status.idle": "2021-01-12T13:56:48.244948Z",
     "shell.execute_reply": "2021-01-12T13:56:48.245494Z"
    },
    "papermill": {
     "duration": 0.217513,
     "end_time": "2021-01-12T13:56:48.245641",
     "exception": false,
     "start_time": "2021-01-12T13:56:48.028128",
     "status": "completed"
    },
    "tags": []
   },
   "outputs": [
    {
     "data": {
      "image/png": "[encoded data removed]",
      "text/plain": [
       "<Figure size 432x288 with 1 Axes>"
      ]
     },
     "metadata": {
      "needs_background": "light"
     },
     "output_type": "display_data"
    }
   ],
   "source": [
    "train.corr().Survived.sort_values(ascending = False).plot(kind='bar');"
   ]
  },
  {
   "cell_type": "code",
   "execution_count": 14,
   "metadata": {
    "execution": {
     "iopub.execute_input": "2021-01-12T13:56:48.337362Z",
     "iopub.status.busy": "2021-01-12T13:56:48.336723Z",
     "iopub.status.idle": "2021-01-12T13:56:48.799637Z",
     "shell.execute_reply": "2021-01-12T13:56:48.798820Z"
    },
    "papermill": {
     "duration": 0.50972,
     "end_time": "2021-01-12T13:56:48.799802",
     "exception": false,
     "start_time": "2021-01-12T13:56:48.290082",
     "status": "completed"
    },
    "tags": []
   },
   "outputs": [
    {
     "data": {
      "image/png": "[encoded data removed]",
      "text/plain": [
       "<Figure size 864x576 with 2 Axes>"
      ]
     },
     "metadata": {
      "needs_background": "light"
     },
     "output_type": "display_data"
    }
   ],
   "source": [
    "plt.figure(figsize=(12,8))\n",
    "sns.heatmap(train.corr(),annot=True);"
   ]
  },
  {
   "cell_type": "markdown",
   "metadata": {
    "papermill": {
     "duration": 0.046563,
     "end_time": "2021-01-12T13:56:48.891932",
     "exception": false,
     "start_time": "2021-01-12T13:56:48.845369",
     "status": "completed"
    },
    "tags": []
   },
   "source": [
    "# Data Preprocessing"
   ]
  },
  {
   "cell_type": "code",
   "execution_count": 15,
   "metadata": {
    "execution": {
     "iopub.execute_input": "2021-01-12T13:56:48.994617Z",
     "iopub.status.busy": "2021-01-12T13:56:48.993870Z",
     "iopub.status.idle": "2021-01-12T13:56:48.997019Z",
     "shell.execute_reply": "2021-01-12T13:56:48.997542Z"
    },
    "papermill": {
     "duration": 0.057199,
     "end_time": "2021-01-12T13:56:48.997686",
     "exception": false,
     "start_time": "2021-01-12T13:56:48.940487",
     "status": "completed"
    },
    "tags": []
   },
   "outputs": [
    {
     "data": {
      "text/plain": [
       "S    644\n",
       "Name: Embarked, dtype: int64"
      ]
     },
     "execution_count": 15,
     "metadata": {},
     "output_type": "execute_result"
    }
   ],
   "source": [
    "train['Embarked'].value_counts().head(1)"
   ]
  },
  {
   "cell_type": "code",
   "execution_count": 16,
   "metadata": {
    "execution": {
     "iopub.execute_input": "2021-01-12T13:56:49.096427Z",
     "iopub.status.busy": "2021-01-12T13:56:49.095754Z",
     "iopub.status.idle": "2021-01-12T13:56:49.103682Z",
     "shell.execute_reply": "2021-01-12T13:56:49.104166Z"
    },
    "papermill": {
     "duration": 0.060187,
     "end_time": "2021-01-12T13:56:49.104339",
     "exception": false,
     "start_time": "2021-01-12T13:56:49.044152",
     "status": "completed"
    },
    "tags": []
   },
   "outputs": [
    {
     "data": {
      "text/plain": [
       "B96 B98        4\n",
       "C23 C25 C27    4\n",
       "G6             4\n",
       "C22 C26        3\n",
       "F33            3\n",
       "              ..\n",
       "C106           1\n",
       "C49            1\n",
       "A36            1\n",
       "E38            1\n",
       "E40            1\n",
       "Name: Cabin, Length: 147, dtype: int64"
      ]
     },
     "execution_count": 16,
     "metadata": {},
     "output_type": "execute_result"
    }
   ],
   "source": [
    "train['Cabin'].value_counts()"
   ]
  },
  {
   "cell_type": "code",
   "execution_count": 17,
   "metadata": {
    "execution": {
     "iopub.execute_input": "2021-01-12T13:56:49.202188Z",
     "iopub.status.busy": "2021-01-12T13:56:49.201411Z",
     "iopub.status.idle": "2021-01-12T13:56:49.208189Z",
     "shell.execute_reply": "2021-01-12T13:56:49.207482Z"
    },
    "papermill": {
     "duration": 0.05666,
     "end_time": "2021-01-12T13:56:49.208330",
     "exception": false,
     "start_time": "2021-01-12T13:56:49.151670",
     "status": "completed"
    },
    "tags": []
   },
   "outputs": [
    {
     "data": {
      "text/plain": [
       "28.0"
      ]
     },
     "execution_count": 17,
     "metadata": {},
     "output_type": "execute_result"
    }
   ],
   "source": [
    "train.Age.median()"
   ]
  },
  {
   "cell_type": "code",
   "execution_count": 18,
   "metadata": {
    "execution": {
     "iopub.execute_input": "2021-01-12T13:56:49.308429Z",
     "iopub.status.busy": "2021-01-12T13:56:49.307595Z",
     "iopub.status.idle": "2021-01-12T13:56:49.310315Z",
     "shell.execute_reply": "2021-01-12T13:56:49.310863Z"
    },
    "papermill": {
     "duration": 0.055288,
     "end_time": "2021-01-12T13:56:49.311014",
     "exception": false,
     "start_time": "2021-01-12T13:56:49.255726",
     "status": "completed"
    },
    "tags": []
   },
   "outputs": [],
   "source": [
    "data = [train,test]"
   ]
  },
  {
   "cell_type": "code",
   "execution_count": 19,
   "metadata": {
    "execution": {
     "iopub.execute_input": "2021-01-12T13:56:49.413649Z",
     "iopub.status.busy": "2021-01-12T13:56:49.412978Z",
     "iopub.status.idle": "2021-01-12T13:56:49.415961Z",
     "shell.execute_reply": "2021-01-12T13:56:49.416591Z"
    },
    "papermill": {
     "duration": 0.057943,
     "end_time": "2021-01-12T13:56:49.416734",
     "exception": false,
     "start_time": "2021-01-12T13:56:49.358791",
     "status": "completed"
    },
    "tags": []
   },
   "outputs": [
    {
     "data": {
      "text/plain": [
       "0      22.0\n",
       "1      38.0\n",
       "2      26.0\n",
       "3      35.0\n",
       "4      35.0\n",
       "       ... \n",
       "886    27.0\n",
       "887    19.0\n",
       "888     NaN\n",
       "889    26.0\n",
       "890    32.0\n",
       "Name: Age, Length: 891, dtype: float64"
      ]
     },
     "execution_count": 19,
     "metadata": {},
     "output_type": "execute_result"
    }
   ],
   "source": [
    "train['Age']"
   ]
  },
  {
   "cell_type": "code",
   "execution_count": 20,
   "metadata": {
    "execution": {
     "iopub.execute_input": "2021-01-12T13:56:49.516132Z",
     "iopub.status.busy": "2021-01-12T13:56:49.515434Z",
     "iopub.status.idle": "2021-01-12T13:56:49.524671Z",
     "shell.execute_reply": "2021-01-12T13:56:49.525256Z"
    },
    "papermill": {
     "duration": 0.060608,
     "end_time": "2021-01-12T13:56:49.525403",
     "exception": false,
     "start_time": "2021-01-12T13:56:49.464795",
     "status": "completed"
    },
    "tags": []
   },
   "outputs": [],
   "source": [
    "for dataset in data:\n",
    "    dataset['Age'] = dataset['Age'].fillna(dataset['Age'].median())\n",
    "    dataset['Embarked'] = dataset['Embarked'].fillna('S')\n",
    "    dataset['Fare'] = dataset['Fare'].fillna(dataset['Fare'].mean())"
   ]
  },
  {
   "cell_type": "code",
   "execution_count": 21,
   "metadata": {
    "execution": {
     "iopub.execute_input": "2021-01-12T13:56:49.624888Z",
     "iopub.status.busy": "2021-01-12T13:56:49.624134Z",
     "iopub.status.idle": "2021-01-12T13:56:49.632306Z",
     "shell.execute_reply": "2021-01-12T13:56:49.632883Z"
    },
    "papermill": {
     "duration": 0.05964,
     "end_time": "2021-01-12T13:56:49.633041",
     "exception": false,
     "start_time": "2021-01-12T13:56:49.573401",
     "status": "completed"
    },
    "tags": []
   },
   "outputs": [
    {
     "data": {
      "text/plain": [
       "PassengerId      0\n",
       "Survived         0\n",
       "Pclass           0\n",
       "Name             0\n",
       "Sex              0\n",
       "Age              0\n",
       "SibSp            0\n",
       "Parch            0\n",
       "Ticket           0\n",
       "Fare             0\n",
       "Cabin          687\n",
       "Embarked         0\n",
       "dtype: int64"
      ]
     },
     "execution_count": 21,
     "metadata": {},
     "output_type": "execute_result"
    }
   ],
   "source": [
    "train.isnull().sum()"
   ]
  },
  {
   "cell_type": "code",
   "execution_count": 22,
   "metadata": {
    "execution": {
     "iopub.execute_input": "2021-01-12T13:56:49.733510Z",
     "iopub.status.busy": "2021-01-12T13:56:49.732874Z",
     "iopub.status.idle": "2021-01-12T13:56:49.741529Z",
     "shell.execute_reply": "2021-01-12T13:56:49.740981Z"
    },
    "papermill": {
     "duration": 0.060385,
     "end_time": "2021-01-12T13:56:49.741655",
     "exception": false,
     "start_time": "2021-01-12T13:56:49.681270",
     "status": "completed"
    },
    "tags": []
   },
   "outputs": [],
   "source": [
    "#Separating features and labels in training data\n",
    "X_train = train.drop(['Survived','Ticket','Cabin','Name','PassengerId'],axis = 1)\n",
    "X_train_pass = train['PassengerId']\n",
    "y_train = train['Survived']\n",
    "\n",
    "#repeating for test data\n",
    "X_test = test.drop(['Ticket','Cabin','Name','PassengerId'],axis = 1)\n",
    "X_test_pass = test['PassengerId']\n"
   ]
  },
  {
   "cell_type": "markdown",
   "metadata": {
    "papermill": {
     "duration": 0.047929,
     "end_time": "2021-01-12T13:56:49.837981",
     "exception": false,
     "start_time": "2021-01-12T13:56:49.790052",
     "status": "completed"
    },
    "tags": []
   },
   "source": [
    "# Feature Scaling"
   ]
  },
  {
   "cell_type": "code",
   "execution_count": 23,
   "metadata": {
    "execution": {
     "iopub.execute_input": "2021-01-12T13:56:49.948897Z",
     "iopub.status.busy": "2021-01-12T13:56:49.948218Z",
     "iopub.status.idle": "2021-01-12T13:56:49.951078Z",
     "shell.execute_reply": "2021-01-12T13:56:49.951648Z"
    },
    "papermill": {
     "duration": 0.065541,
     "end_time": "2021-01-12T13:56:49.951789",
     "exception": false,
     "start_time": "2021-01-12T13:56:49.886248",
     "status": "completed"
    },
    "tags": []
   },
   "outputs": [
    {
     "name": "stdout",
     "output_type": "stream",
     "text": [
      "Index(['Pclass', 'Age', 'SibSp', 'Parch', 'Fare'], dtype='object')\n",
      "Index(['Sex', 'Embarked'], dtype='object')\n"
     ]
    }
   ],
   "source": [
    "int_cols = X_train.select_dtypes(include=['int64','float64']).columns\n",
    "X_int_train = X_train.select_dtypes(include=['int64','float64'])\n",
    "obj_cols = X_train.select_dtypes(include=['object']).columns\n",
    "X_obj_train = X_train.select_dtypes(include=['object'])\n",
    "print(int_cols)\n",
    "print(obj_cols)"
   ]
  },
  {
   "cell_type": "code",
   "execution_count": 24,
   "metadata": {
    "execution": {
     "iopub.execute_input": "2021-01-12T13:56:50.054680Z",
     "iopub.status.busy": "2021-01-12T13:56:50.053917Z",
     "iopub.status.idle": "2021-01-12T13:56:50.061524Z",
     "shell.execute_reply": "2021-01-12T13:56:50.062081Z"
    },
    "papermill": {
     "duration": 0.059984,
     "end_time": "2021-01-12T13:56:50.062245",
     "exception": false,
     "start_time": "2021-01-12T13:56:50.002261",
     "status": "completed"
    },
    "tags": []
   },
   "outputs": [],
   "source": [
    "X_int_test = X_test.select_dtypes(include=['int64','float64'])\n",
    "X_obj_test = X_test.select_dtypes(include=['object'])"
   ]
  },
  {
   "cell_type": "markdown",
   "metadata": {
    "papermill": {
     "duration": 0.060252,
     "end_time": "2021-01-12T13:56:50.177566",
     "exception": false,
     "start_time": "2021-01-12T13:56:50.117314",
     "status": "completed"
    },
    "tags": []
   },
   "source": [
    "### Transforming object type data in test set"
   ]
  },
  {
   "cell_type": "code",
   "execution_count": 25,
   "metadata": {
    "execution": {
     "iopub.execute_input": "2021-01-12T13:56:50.288357Z",
     "iopub.status.busy": "2021-01-12T13:56:50.287306Z",
     "iopub.status.idle": "2021-01-12T13:56:50.301107Z",
     "shell.execute_reply": "2021-01-12T13:56:50.301653Z"
    },
    "papermill": {
     "duration": 0.067238,
     "end_time": "2021-01-12T13:56:50.301796",
     "exception": false,
     "start_time": "2021-01-12T13:56:50.234558",
     "status": "completed"
    },
    "tags": []
   },
   "outputs": [
    {
     "name": "stderr",
     "output_type": "stream",
     "text": [
      "/opt/conda/lib/python3.7/site-packages/pandas/core/generic.py:5170: SettingWithCopyWarning: \n",
      "A value is trying to be set on a copy of a slice from a DataFrame.\n",
      "Try using .loc[row_indexer,col_indexer] = value instead\n",
      "\n",
      "See the caveats in the documentation: https://pandas.pydata.org/pandas-docs/stable/user_guide/indexing.html#returning-a-view-versus-a-copy\n",
      "  self[name] = value\n"
     ]
    }
   ],
   "source": [
    "X_obj_test.Sex = X_obj_test.Sex.map({'female':0,'male':1})"
   ]
  },
  {
   "cell_type": "code",
   "execution_count": 26,
   "metadata": {
    "execution": {
     "iopub.execute_input": "2021-01-12T13:56:50.404377Z",
     "iopub.status.busy": "2021-01-12T13:56:50.403744Z",
     "iopub.status.idle": "2021-01-12T13:56:50.410544Z",
     "shell.execute_reply": "2021-01-12T13:56:50.409816Z"
    },
    "papermill": {
     "duration": 0.059058,
     "end_time": "2021-01-12T13:56:50.410661",
     "exception": false,
     "start_time": "2021-01-12T13:56:50.351603",
     "status": "completed"
    },
    "tags": []
   },
   "outputs": [],
   "source": [
    "X_obj_test.Embarked = X_obj_test.Embarked.map({'S':2,'C':0,'Q':1})"
   ]
  },
  {
   "cell_type": "code",
   "execution_count": 27,
   "metadata": {
    "execution": {
     "iopub.execute_input": "2021-01-12T13:56:50.523331Z",
     "iopub.status.busy": "2021-01-12T13:56:50.522612Z",
     "iopub.status.idle": "2021-01-12T13:56:50.526967Z",
     "shell.execute_reply": "2021-01-12T13:56:50.526351Z"
    },
    "papermill": {
     "duration": 0.065692,
     "end_time": "2021-01-12T13:56:50.527084",
     "exception": false,
     "start_time": "2021-01-12T13:56:50.461392",
     "status": "completed"
    },
    "tags": []
   },
   "outputs": [
    {
     "data": {
      "text/html": [
       "<div>\n",
       "<style scoped>\n",
       "    .dataframe tbody tr th:only-of-type {\n",
       "        vertical-align: middle;\n",
       "    }\n",
       "\n",
       "    .dataframe tbody tr th {\n",
       "        vertical-align: top;\n",
       "    }\n",
       "\n",
       "    .dataframe thead th {\n",
       "        text-align: right;\n",
       "    }\n",
       "</style>\n",
       "<table border=\"1\" class=\"dataframe\">\n",
       "  <thead>\n",
       "    <tr style=\"text-align: right;\">\n",
       "      <th></th>\n",
       "      <th>Sex</th>\n",
       "      <th>Embarked</th>\n",
       "    </tr>\n",
       "  </thead>\n",
       "  <tbody>\n",
       "    <tr>\n",
       "      <th>0</th>\n",
       "      <td>1</td>\n",
       "      <td>1</td>\n",
       "    </tr>\n",
       "    <tr>\n",
       "      <th>1</th>\n",
       "      <td>0</td>\n",
       "      <td>2</td>\n",
       "    </tr>\n",
       "    <tr>\n",
       "      <th>2</th>\n",
       "      <td>1</td>\n",
       "      <td>1</td>\n",
       "    </tr>\n",
       "    <tr>\n",
       "      <th>3</th>\n",
       "      <td>1</td>\n",
       "      <td>2</td>\n",
       "    </tr>\n",
       "    <tr>\n",
       "      <th>4</th>\n",
       "      <td>0</td>\n",
       "      <td>2</td>\n",
       "    </tr>\n",
       "    <tr>\n",
       "      <th>...</th>\n",
       "      <td>...</td>\n",
       "      <td>...</td>\n",
       "    </tr>\n",
       "    <tr>\n",
       "      <th>413</th>\n",
       "      <td>1</td>\n",
       "      <td>2</td>\n",
       "    </tr>\n",
       "    <tr>\n",
       "      <th>414</th>\n",
       "      <td>0</td>\n",
       "      <td>0</td>\n",
       "    </tr>\n",
       "    <tr>\n",
       "      <th>415</th>\n",
       "      <td>1</td>\n",
       "      <td>2</td>\n",
       "    </tr>\n",
       "    <tr>\n",
       "      <th>416</th>\n",
       "      <td>1</td>\n",
       "      <td>2</td>\n",
       "    </tr>\n",
       "    <tr>\n",
       "      <th>417</th>\n",
       "      <td>1</td>\n",
       "      <td>0</td>\n",
       "    </tr>\n",
       "  </tbody>\n",
       "</table>\n",
       "<p>418 rows × 2 columns</p>\n",
       "</div>"
      ],
      "text/plain": [
       "     Sex  Embarked\n",
       "0      1         1\n",
       "1      0         2\n",
       "2      1         1\n",
       "3      1         2\n",
       "4      0         2\n",
       "..   ...       ...\n",
       "413    1         2\n",
       "414    0         0\n",
       "415    1         2\n",
       "416    1         2\n",
       "417    1         0\n",
       "\n",
       "[418 rows x 2 columns]"
      ]
     },
     "execution_count": 27,
     "metadata": {},
     "output_type": "execute_result"
    }
   ],
   "source": [
    "X_obj_test"
   ]
  },
  {
   "cell_type": "code",
   "execution_count": 28,
   "metadata": {
    "execution": {
     "iopub.execute_input": "2021-01-12T13:56:50.639544Z",
     "iopub.status.busy": "2021-01-12T13:56:50.635865Z",
     "iopub.status.idle": "2021-01-12T13:56:50.643432Z",
     "shell.execute_reply": "2021-01-12T13:56:50.643925Z"
    },
    "papermill": {
     "duration": 0.066358,
     "end_time": "2021-01-12T13:56:50.644082",
     "exception": false,
     "start_time": "2021-01-12T13:56:50.577724",
     "status": "completed"
    },
    "tags": []
   },
   "outputs": [
    {
     "name": "stdout",
     "output_type": "stream",
     "text": [
      "<class 'pandas.core.frame.DataFrame'>\n",
      "RangeIndex: 418 entries, 0 to 417\n",
      "Data columns (total 2 columns):\n",
      " #   Column    Non-Null Count  Dtype\n",
      "---  ------    --------------  -----\n",
      " 0   Sex       418 non-null    int64\n",
      " 1   Embarked  418 non-null    int64\n",
      "dtypes: int64(2)\n",
      "memory usage: 6.7 KB\n"
     ]
    }
   ],
   "source": [
    "X_obj_test.info()"
   ]
  },
  {
   "cell_type": "code",
   "execution_count": 29,
   "metadata": {
    "execution": {
     "iopub.execute_input": "2021-01-12T13:56:50.754795Z",
     "iopub.status.busy": "2021-01-12T13:56:50.753995Z",
     "iopub.status.idle": "2021-01-12T13:56:50.826525Z",
     "shell.execute_reply": "2021-01-12T13:56:50.825828Z"
    },
    "papermill": {
     "duration": 0.13107,
     "end_time": "2021-01-12T13:56:50.826638",
     "exception": false,
     "start_time": "2021-01-12T13:56:50.695568",
     "status": "completed"
    },
    "tags": []
   },
   "outputs": [],
   "source": [
    "from sklearn.preprocessing import LabelEncoder\n",
    "\n",
    "encoder = LabelEncoder()\n",
    "X_obj_train = X_obj_train.apply(encoder.fit_transform)\n",
    "X_obj_train = pd.DataFrame(X_obj_train,columns=obj_cols)\n",
    "X_obj_test = pd.DataFrame(X_obj_test,columns=obj_cols)"
   ]
  },
  {
   "cell_type": "code",
   "execution_count": 30,
   "metadata": {
    "execution": {
     "iopub.execute_input": "2021-01-12T13:56:50.943412Z",
     "iopub.status.busy": "2021-01-12T13:56:50.942747Z",
     "iopub.status.idle": "2021-01-12T13:56:50.947510Z",
     "shell.execute_reply": "2021-01-12T13:56:50.946893Z"
    },
    "papermill": {
     "duration": 0.069575,
     "end_time": "2021-01-12T13:56:50.947641",
     "exception": false,
     "start_time": "2021-01-12T13:56:50.878066",
     "status": "completed"
    },
    "tags": []
   },
   "outputs": [
    {
     "data": {
      "text/html": [
       "<div>\n",
       "<style scoped>\n",
       "    .dataframe tbody tr th:only-of-type {\n",
       "        vertical-align: middle;\n",
       "    }\n",
       "\n",
       "    .dataframe tbody tr th {\n",
       "        vertical-align: top;\n",
       "    }\n",
       "\n",
       "    .dataframe thead th {\n",
       "        text-align: right;\n",
       "    }\n",
       "</style>\n",
       "<table border=\"1\" class=\"dataframe\">\n",
       "  <thead>\n",
       "    <tr style=\"text-align: right;\">\n",
       "      <th></th>\n",
       "      <th>Sex</th>\n",
       "      <th>Embarked</th>\n",
       "    </tr>\n",
       "  </thead>\n",
       "  <tbody>\n",
       "    <tr>\n",
       "      <th>0</th>\n",
       "      <td>1</td>\n",
       "      <td>1</td>\n",
       "    </tr>\n",
       "    <tr>\n",
       "      <th>1</th>\n",
       "      <td>0</td>\n",
       "      <td>2</td>\n",
       "    </tr>\n",
       "    <tr>\n",
       "      <th>2</th>\n",
       "      <td>1</td>\n",
       "      <td>1</td>\n",
       "    </tr>\n",
       "    <tr>\n",
       "      <th>3</th>\n",
       "      <td>1</td>\n",
       "      <td>2</td>\n",
       "    </tr>\n",
       "    <tr>\n",
       "      <th>4</th>\n",
       "      <td>0</td>\n",
       "      <td>2</td>\n",
       "    </tr>\n",
       "    <tr>\n",
       "      <th>...</th>\n",
       "      <td>...</td>\n",
       "      <td>...</td>\n",
       "    </tr>\n",
       "    <tr>\n",
       "      <th>413</th>\n",
       "      <td>1</td>\n",
       "      <td>2</td>\n",
       "    </tr>\n",
       "    <tr>\n",
       "      <th>414</th>\n",
       "      <td>0</td>\n",
       "      <td>0</td>\n",
       "    </tr>\n",
       "    <tr>\n",
       "      <th>415</th>\n",
       "      <td>1</td>\n",
       "      <td>2</td>\n",
       "    </tr>\n",
       "    <tr>\n",
       "      <th>416</th>\n",
       "      <td>1</td>\n",
       "      <td>2</td>\n",
       "    </tr>\n",
       "    <tr>\n",
       "      <th>417</th>\n",
       "      <td>1</td>\n",
       "      <td>0</td>\n",
       "    </tr>\n",
       "  </tbody>\n",
       "</table>\n",
       "<p>418 rows × 2 columns</p>\n",
       "</div>"
      ],
      "text/plain": [
       "     Sex  Embarked\n",
       "0      1         1\n",
       "1      0         2\n",
       "2      1         1\n",
       "3      1         2\n",
       "4      0         2\n",
       "..   ...       ...\n",
       "413    1         2\n",
       "414    0         0\n",
       "415    1         2\n",
       "416    1         2\n",
       "417    1         0\n",
       "\n",
       "[418 rows x 2 columns]"
      ]
     },
     "execution_count": 30,
     "metadata": {},
     "output_type": "execute_result"
    }
   ],
   "source": [
    "X_obj_test"
   ]
  },
  {
   "cell_type": "code",
   "execution_count": 31,
   "metadata": {
    "execution": {
     "iopub.execute_input": "2021-01-12T13:56:51.069791Z",
     "iopub.status.busy": "2021-01-12T13:56:51.064330Z",
     "iopub.status.idle": "2021-01-12T13:56:51.072965Z",
     "shell.execute_reply": "2021-01-12T13:56:51.072375Z"
    },
    "papermill": {
     "duration": 0.072822,
     "end_time": "2021-01-12T13:56:51.073085",
     "exception": false,
     "start_time": "2021-01-12T13:56:51.000263",
     "status": "completed"
    },
    "tags": []
   },
   "outputs": [],
   "source": [
    "from sklearn.preprocessing import StandardScaler\n",
    "\n",
    "scaler = StandardScaler()\n",
    "X_int_train = scaler.fit_transform(X_int_train)\n",
    "X_int_test = scaler.transform(X_int_test)\n",
    "X_int_train = pd.DataFrame(X_int_train,columns= int_cols )\n",
    "X_int_test = pd.DataFrame(X_int_test,columns= int_cols )"
   ]
  },
  {
   "cell_type": "code",
   "execution_count": 32,
   "metadata": {
    "execution": {
     "iopub.execute_input": "2021-01-12T13:56:51.182977Z",
     "iopub.status.busy": "2021-01-12T13:56:51.181958Z",
     "iopub.status.idle": "2021-01-12T13:56:51.192196Z",
     "shell.execute_reply": "2021-01-12T13:56:51.192737Z"
    },
    "papermill": {
     "duration": 0.066291,
     "end_time": "2021-01-12T13:56:51.192902",
     "exception": false,
     "start_time": "2021-01-12T13:56:51.126611",
     "status": "completed"
    },
    "tags": []
   },
   "outputs": [],
   "source": [
    "X_train = pd.concat([X_int_train,X_obj_train],axis = 1)\n",
    "X_test = pd.concat([X_int_test,X_obj_test],axis = 1)"
   ]
  },
  {
   "cell_type": "code",
   "execution_count": 33,
   "metadata": {
    "execution": {
     "iopub.execute_input": "2021-01-12T13:56:51.304167Z",
     "iopub.status.busy": "2021-01-12T13:56:51.303159Z",
     "iopub.status.idle": "2021-01-12T13:56:51.308761Z",
     "shell.execute_reply": "2021-01-12T13:56:51.309281Z"
    },
    "papermill": {
     "duration": 0.063444,
     "end_time": "2021-01-12T13:56:51.309420",
     "exception": false,
     "start_time": "2021-01-12T13:56:51.245976",
     "status": "completed"
    },
    "tags": []
   },
   "outputs": [
    {
     "data": {
      "text/plain": [
       "Pclass      0\n",
       "Age         0\n",
       "SibSp       0\n",
       "Parch       0\n",
       "Fare        0\n",
       "Sex         0\n",
       "Embarked    0\n",
       "dtype: int64"
      ]
     },
     "execution_count": 33,
     "metadata": {},
     "output_type": "execute_result"
    }
   ],
   "source": [
    "X_test.isnull().sum()"
   ]
  },
  {
   "cell_type": "markdown",
   "metadata": {
    "papermill": {
     "duration": 0.052184,
     "end_time": "2021-01-12T13:56:51.414419",
     "exception": false,
     "start_time": "2021-01-12T13:56:51.362235",
     "status": "completed"
    },
    "tags": []
   },
   "source": [
    "# Model Creation"
   ]
  },
  {
   "cell_type": "code",
   "execution_count": 34,
   "metadata": {
    "execution": {
     "iopub.execute_input": "2021-01-12T13:56:51.523629Z",
     "iopub.status.busy": "2021-01-12T13:56:51.522668Z",
     "iopub.status.idle": "2021-01-12T13:56:51.526443Z",
     "shell.execute_reply": "2021-01-12T13:56:51.526965Z"
    },
    "papermill": {
     "duration": 0.060056,
     "end_time": "2021-01-12T13:56:51.527108",
     "exception": false,
     "start_time": "2021-01-12T13:56:51.467052",
     "status": "completed"
    },
    "tags": []
   },
   "outputs": [],
   "source": [
    "#from sklearn.model_selection import train_test_split\n",
    "#X_train, X_test,y_train,y_test = train_test_split(X,y,test_size =0.25,random_state = 42)"
   ]
  },
  {
   "cell_type": "code",
   "execution_count": 35,
   "metadata": {
    "execution": {
     "iopub.execute_input": "2021-01-12T13:56:51.638546Z",
     "iopub.status.busy": "2021-01-12T13:56:51.637537Z",
     "iopub.status.idle": "2021-01-12T13:56:52.172534Z",
     "shell.execute_reply": "2021-01-12T13:56:52.171934Z"
    },
    "papermill": {
     "duration": 0.590722,
     "end_time": "2021-01-12T13:56:52.172649",
     "exception": false,
     "start_time": "2021-01-12T13:56:51.581927",
     "status": "completed"
    },
    "tags": []
   },
   "outputs": [
    {
     "data": {
      "text/plain": [
       "RandomForestClassifier()"
      ]
     },
     "execution_count": 35,
     "metadata": {},
     "output_type": "execute_result"
    }
   ],
   "source": [
    "from sklearn.ensemble import RandomForestClassifier\n",
    "classifier = RandomForestClassifier()\n",
    "classifier.fit(X_train,y_train)"
   ]
  },
  {
   "cell_type": "code",
   "execution_count": 36,
   "metadata": {
    "execution": {
     "iopub.execute_input": "2021-01-12T13:56:52.289238Z",
     "iopub.status.busy": "2021-01-12T13:56:52.288557Z",
     "iopub.status.idle": "2021-01-12T13:56:52.376053Z",
     "shell.execute_reply": "2021-01-12T13:56:52.375539Z"
    },
    "papermill": {
     "duration": 0.149785,
     "end_time": "2021-01-12T13:56:52.376171",
     "exception": false,
     "start_time": "2021-01-12T13:56:52.226386",
     "status": "completed"
    },
    "tags": []
   },
   "outputs": [
    {
     "data": {
      "text/plain": [
       "array([0, 0, 1, 1, 1, 0, 0, 0, 0, 0, 0, 0, 1, 0, 1, 1, 0, 1, 1, 0, 1, 1,\n",
       "       1, 0, 1, 0, 1, 1, 1, 0, 0, 0, 1, 0, 1, 1, 1, 0, 0, 1, 0, 1, 0, 1,\n",
       "       1, 0, 0, 0, 1, 1, 0, 0, 1, 0, 1, 0, 0, 0, 0, 1, 0, 0, 0, 1, 1, 0,\n",
       "       1, 0, 0, 1, 1, 0, 0, 0, 1, 0, 0, 1, 0, 1, 1, 0, 0, 0, 0, 0, 1, 0,\n",
       "       1, 1, 1, 1, 0, 0, 0, 0, 1, 1, 1, 0, 1, 0, 0, 0, 1, 0, 0, 0, 1, 0,\n",
       "       0, 1, 1, 0, 1, 1, 0, 1, 1, 1, 1, 0, 1, 0, 0, 1, 0, 1, 0, 0, 1, 0,\n",
       "       0, 0, 0, 0, 0, 0, 0, 0, 0, 1, 1, 0, 0, 0, 0, 0, 1, 0, 1, 0, 0, 1,\n",
       "       0, 0, 1, 1, 0, 1, 1, 1, 1, 1, 0, 1, 1, 0, 0, 0, 0, 0, 0, 0, 1, 1,\n",
       "       1, 1, 1, 1, 0, 0, 1, 0, 1, 0, 1, 0, 0, 0, 0, 0, 1, 1, 1, 0, 1, 0,\n",
       "       0, 1, 1, 1, 0, 1, 0, 0, 0, 0, 1, 0, 0, 0, 0, 1, 0, 0, 1, 0, 1, 0,\n",
       "       1, 0, 1, 1, 1, 0, 0, 1, 0, 0, 0, 1, 1, 0, 1, 0, 1, 1, 1, 1, 1, 1,\n",
       "       0, 0, 0, 0, 1, 1, 1, 0, 1, 0, 0, 0, 0, 0, 0, 0, 1, 0, 0, 0, 1, 1,\n",
       "       0, 0, 1, 0, 1, 0, 1, 0, 1, 1, 0, 1, 0, 0, 0, 0, 0, 1, 1, 0, 0, 0,\n",
       "       0, 0, 0, 0, 0, 0, 0, 0, 0, 0, 0, 0, 0, 0, 1, 0, 0, 0, 1, 1, 0, 1,\n",
       "       0, 0, 0, 1, 0, 0, 1, 1, 1, 0, 0, 0, 0, 0, 0, 1, 1, 0, 1, 0, 0, 0,\n",
       "       1, 0, 0, 1, 0, 0, 0, 0, 0, 0, 0, 0, 0, 1, 0, 1, 0, 0, 0, 1, 1, 0,\n",
       "       0, 0, 0, 0, 1, 0, 0, 1, 0, 1, 1, 1, 1, 0, 0, 1, 1, 1, 0, 1, 0, 0,\n",
       "       1, 1, 0, 0, 0, 0, 0, 0, 1, 1, 0, 1, 0, 0, 0, 0, 1, 1, 1, 0, 0, 1,\n",
       "       0, 1, 0, 0, 1, 0, 1, 0, 0, 1, 0, 0, 1, 1, 1, 1, 0, 0, 1, 0, 0, 0])"
      ]
     },
     "execution_count": 36,
     "metadata": {},
     "output_type": "execute_result"
    }
   ],
   "source": [
    "from sklearn.naive_bayes import BernoulliNB \n",
    "from sklearn import tree\n",
    "from sklearn.svm import SVC\n",
    "from sklearn.neighbors import KNeighborsClassifier\n",
    "\n",
    "class_knn = KNeighborsClassifier()\n",
    "class_knn.fit(X_train,y_train)\n",
    "class_knn.predict(X_test)\n",
    "\n",
    "class_svc = SVC()\n",
    "class_svc.fit(X_train,y_train)\n",
    "class_svc.predict(X_test)\n",
    "\n",
    "class_BNB = BernoulliNB()\n",
    "class_tree = tree.DecisionTreeClassifier(criterion='entropy', random_state=0)\n",
    "\n",
    "class_BNB.fit(X_train,y_train)\n",
    "class_BNB.predict(X_test)\n",
    "\n",
    "class_tree.fit(X_train,y_train)\n",
    "class_tree.predict(X_test)"
   ]
  },
  {
   "cell_type": "markdown",
   "metadata": {
    "papermill": {
     "duration": 0.053493,
     "end_time": "2021-01-12T13:56:52.483626",
     "exception": false,
     "start_time": "2021-01-12T13:56:52.430133",
     "status": "completed"
    },
    "tags": []
   },
   "source": [
    "# Evaluation on train set"
   ]
  },
  {
   "cell_type": "code",
   "execution_count": 37,
   "metadata": {
    "execution": {
     "iopub.execute_input": "2021-01-12T13:56:52.610738Z",
     "iopub.status.busy": "2021-01-12T13:56:52.602671Z",
     "iopub.status.idle": "2021-01-12T13:56:52.892270Z",
     "shell.execute_reply": "2021-01-12T13:56:52.892786Z"
    },
    "papermill": {
     "duration": 0.355138,
     "end_time": "2021-01-12T13:56:52.892948",
     "exception": false,
     "start_time": "2021-01-12T13:56:52.537810",
     "status": "completed"
    },
    "tags": []
   },
   "outputs": [
    {
     "name": "stdout",
     "output_type": "stream",
     "text": [
      "-------------------------------------------------Evaluation metrics------------------------------------------------- \n",
      " \n",
      "\n",
      "--------- Random Forest Classifier --------\n",
      "\n",
      "f1-score \n",
      " 0.973529411764706\n",
      "\n",
      "Confusion matrix \n",
      " [[542   7]\n",
      " [ 11 331]]\n",
      "\n",
      "Accuracy \n",
      " 0.9797979797979798\n",
      "\n",
      "-----------------------------------------------------------------\n",
      "\n",
      "--------- KNeighborsClassifier --------\n",
      "\n",
      "f1-score \n",
      " 0.7976190476190476\n",
      "\n",
      "Confusion matrix \n",
      " [[487  62]\n",
      " [ 74 268]]\n",
      "\n",
      "Accuracy \n",
      " 0.8473625140291807\n",
      "\n",
      "-----------------------------------------------------------------\n",
      "\n",
      "--------- SVC --------\n",
      "\n",
      "f1-score \n",
      " 0.7708978328173375\n",
      "\n",
      "Confusion matrix \n",
      " [[494  55]\n",
      " [ 93 249]]\n",
      "\n",
      "Accuracy \n",
      " 0.8338945005611672\n",
      "\n",
      "-----------------------------------------------------------------\n",
      "\n",
      "--------- BernoulliNB --------\n",
      "\n",
      "f1-score \n",
      " 0.6746268656716418\n",
      "\n",
      "Confusion matrix \n",
      " [[447 102]\n",
      " [116 226]]\n",
      "\n",
      "Accuracy \n",
      " 0.755331088664422\n",
      "\n",
      "-----------------------------------------------------------------\n",
      "\n",
      "--------- Decision tree --------\n",
      "\n",
      "f1-score \n",
      " 0.973134328358209\n",
      "\n",
      "Confusion matrix \n",
      " [[547   2]\n",
      " [ 16 326]]\n",
      "\n",
      "Accuracy \n",
      " 0.9797979797979798\n",
      "\n",
      "-----------------------------------------------------------------\n",
      "\n"
     ]
    }
   ],
   "source": [
    "from sklearn.metrics import f1_score,confusion_matrix,accuracy_score\n",
    "\n",
    "models = []\n",
    "\n",
    "models.append(('Random Forest Classifier',classifier))\n",
    "models.append(('KNeighborsClassifier',class_knn))\n",
    "models.append(('SVC',class_svc))\n",
    "models.append(('BernoulliNB',class_BNB))\n",
    "models.append(('Decision tree',class_tree))\n",
    "\n",
    "print('-------------------------------------------------Evaluation metrics------------------------------------------------- \\n \\n')\n",
    "\n",
    "for name, model in  models:\n",
    "    print(f'--------- {name} --------')\n",
    "    print()\n",
    "    print('f1-score \\n', f1_score(y_train,model.predict(X_train)))\n",
    "    print()\n",
    "    print('Confusion matrix \\n' , confusion_matrix(y_train,model.predict(X_train)))\n",
    "    print()\n",
    "    print('Accuracy \\n' ,accuracy_score(y_train,model.predict(X_train)))\n",
    "    print()\n",
    "    print('-----------------------------------------------------------------')\n",
    "    print()\n",
    "    "
   ]
  },
  {
   "cell_type": "code",
   "execution_count": 38,
   "metadata": {
    "execution": {
     "iopub.execute_input": "2021-01-12T13:56:53.010066Z",
     "iopub.status.busy": "2021-01-12T13:56:53.008764Z",
     "iopub.status.idle": "2021-01-12T13:56:59.202068Z",
     "shell.execute_reply": "2021-01-12T13:56:59.202631Z"
    },
    "papermill": {
     "duration": 6.254964,
     "end_time": "2021-01-12T13:56:59.202810",
     "exception": false,
     "start_time": "2021-01-12T13:56:52.947846",
     "status": "completed"
    },
    "tags": []
   },
   "outputs": [],
   "source": [
    "import keras"
   ]
  },
  {
   "cell_type": "code",
   "execution_count": 39,
   "metadata": {
    "execution": {
     "iopub.execute_input": "2021-01-12T13:56:59.319480Z",
     "iopub.status.busy": "2021-01-12T13:56:59.318819Z",
     "iopub.status.idle": "2021-01-12T13:56:59.321127Z",
     "shell.execute_reply": "2021-01-12T13:56:59.321843Z"
    },
    "papermill": {
     "duration": 0.063338,
     "end_time": "2021-01-12T13:56:59.322050",
     "exception": false,
     "start_time": "2021-01-12T13:56:59.258712",
     "status": "completed"
    },
    "tags": []
   },
   "outputs": [],
   "source": [
    "from tensorflow.keras.models import Sequential\n",
    "from tensorflow.keras.layers import Dense,Dropout\n",
    "from tensorflow.keras.callbacks import Callback"
   ]
  },
  {
   "cell_type": "code",
   "execution_count": 40,
   "metadata": {
    "execution": {
     "iopub.execute_input": "2021-01-12T13:56:59.439354Z",
     "iopub.status.busy": "2021-01-12T13:56:59.438689Z",
     "iopub.status.idle": "2021-01-12T13:56:59.516629Z",
     "shell.execute_reply": "2021-01-12T13:56:59.515997Z"
    },
    "papermill": {
     "duration": 0.139152,
     "end_time": "2021-01-12T13:56:59.516756",
     "exception": false,
     "start_time": "2021-01-12T13:56:59.377604",
     "status": "completed"
    },
    "tags": []
   },
   "outputs": [],
   "source": [
    "model = Sequential()\n",
    "model.add(Dense(7,activation = 'relu'))\n",
    "\n",
    "model.add(Dense(7,activation ='relu'))\n",
    "\n",
    "model.add(Dense(1,activation = 'sigmoid'))"
   ]
  },
  {
   "cell_type": "code",
   "execution_count": 41,
   "metadata": {
    "execution": {
     "iopub.execute_input": "2021-01-12T13:56:59.641756Z",
     "iopub.status.busy": "2021-01-12T13:56:59.640653Z",
     "iopub.status.idle": "2021-01-12T13:56:59.650334Z",
     "shell.execute_reply": "2021-01-12T13:56:59.650864Z"
    },
    "papermill": {
     "duration": 0.078401,
     "end_time": "2021-01-12T13:56:59.651014",
     "exception": false,
     "start_time": "2021-01-12T13:56:59.572613",
     "status": "completed"
    },
    "tags": []
   },
   "outputs": [],
   "source": [
    "model.compile(optimizer='adam',metrics=['accuracy'],loss='binary_crossentropy')"
   ]
  },
  {
   "cell_type": "code",
   "execution_count": 42,
   "metadata": {
    "execution": {
     "iopub.execute_input": "2021-01-12T13:56:59.770955Z",
     "iopub.status.busy": "2021-01-12T13:56:59.769893Z",
     "iopub.status.idle": "2021-01-12T13:57:04.255336Z",
     "shell.execute_reply": "2021-01-12T13:57:04.254712Z"
    },
    "papermill": {
     "duration": 4.548577,
     "end_time": "2021-01-12T13:57:04.255462",
     "exception": false,
     "start_time": "2021-01-12T13:56:59.706885",
     "status": "completed"
    },
    "tags": []
   },
   "outputs": [
    {
     "name": "stdout",
     "output_type": "stream",
     "text": [
      "Epoch 1/100\n",
      "28/28 [==============================] - 0s 1ms/step - loss: 0.7103 - accuracy: 0.6083\n",
      "Epoch 2/100\n",
      "28/28 [==============================] - 0s 1ms/step - loss: 0.6838 - accuracy: 0.6207\n",
      "Epoch 3/100\n",
      "28/28 [==============================] - 0s 942us/step - loss: 0.6619 - accuracy: 0.6442\n",
      "Epoch 4/100\n",
      "28/28 [==============================] - 0s 1ms/step - loss: 0.6425 - accuracy: 0.6622\n",
      "Epoch 5/100\n",
      "28/28 [==============================] - 0s 1ms/step - loss: 0.6251 - accuracy: 0.6768\n",
      "Epoch 6/100\n",
      "28/28 [==============================] - 0s 1ms/step - loss: 0.6100 - accuracy: 0.6891\n",
      "Epoch 7/100\n",
      "28/28 [==============================] - 0s 1ms/step - loss: 0.5967 - accuracy: 0.6914\n",
      "Epoch 8/100\n",
      "28/28 [==============================] - 0s 1ms/step - loss: 0.5852 - accuracy: 0.6970\n",
      "Epoch 9/100\n",
      "28/28 [==============================] - 0s 1ms/step - loss: 0.5752 - accuracy: 0.7059\n",
      "Epoch 10/100\n",
      "28/28 [==============================] - 0s 1ms/step - loss: 0.5661 - accuracy: 0.7104\n",
      "Epoch 11/100\n",
      "28/28 [==============================] - 0s 1ms/step - loss: 0.5571 - accuracy: 0.7138\n",
      "Epoch 12/100\n",
      "28/28 [==============================] - 0s 1ms/step - loss: 0.5491 - accuracy: 0.7172\n",
      "Epoch 13/100\n",
      "28/28 [==============================] - 0s 1ms/step - loss: 0.5415 - accuracy: 0.7262\n",
      "Epoch 14/100\n",
      "28/28 [==============================] - 0s 2ms/step - loss: 0.5342 - accuracy: 0.7329\n",
      "Epoch 15/100\n",
      "28/28 [==============================] - 0s 2ms/step - loss: 0.5268 - accuracy: 0.7374\n",
      "Epoch 16/100\n",
      "28/28 [==============================] - 0s 2ms/step - loss: 0.5190 - accuracy: 0.7452\n",
      "Epoch 17/100\n",
      "28/28 [==============================] - 0s 1ms/step - loss: 0.5124 - accuracy: 0.7531\n",
      "Epoch 18/100\n",
      "28/28 [==============================] - 0s 2ms/step - loss: 0.5054 - accuracy: 0.7609\n",
      "Epoch 19/100\n",
      "28/28 [==============================] - 0s 1ms/step - loss: 0.4985 - accuracy: 0.7643\n",
      "Epoch 20/100\n",
      "28/28 [==============================] - 0s 1ms/step - loss: 0.4923 - accuracy: 0.7699\n",
      "Epoch 21/100\n",
      "28/28 [==============================] - 0s 1ms/step - loss: 0.4854 - accuracy: 0.7767\n",
      "Epoch 22/100\n",
      "28/28 [==============================] - 0s 1ms/step - loss: 0.4793 - accuracy: 0.7823\n",
      "Epoch 23/100\n",
      "28/28 [==============================] - 0s 1ms/step - loss: 0.4744 - accuracy: 0.7856\n",
      "Epoch 24/100\n",
      "28/28 [==============================] - 0s 1ms/step - loss: 0.4686 - accuracy: 0.7901\n",
      "Epoch 25/100\n",
      "28/28 [==============================] - 0s 1ms/step - loss: 0.4634 - accuracy: 0.7946\n",
      "Epoch 26/100\n",
      "28/28 [==============================] - 0s 1ms/step - loss: 0.4579 - accuracy: 0.7980\n",
      "Epoch 27/100\n",
      "28/28 [==============================] - 0s 1ms/step - loss: 0.4543 - accuracy: 0.7980\n",
      "Epoch 28/100\n",
      "28/28 [==============================] - 0s 1ms/step - loss: 0.4495 - accuracy: 0.8092\n",
      "Epoch 29/100\n",
      "28/28 [==============================] - 0s 1ms/step - loss: 0.4454 - accuracy: 0.8114\n",
      "Epoch 30/100\n",
      "28/28 [==============================] - 0s 1ms/step - loss: 0.4421 - accuracy: 0.8070\n",
      "Epoch 31/100\n",
      "28/28 [==============================] - 0s 1ms/step - loss: 0.4408 - accuracy: 0.8058\n",
      "Epoch 32/100\n",
      "28/28 [==============================] - 0s 1ms/step - loss: 0.4387 - accuracy: 0.8081\n",
      "Epoch 33/100\n",
      "28/28 [==============================] - 0s 999us/step - loss: 0.4347 - accuracy: 0.8070\n",
      "Epoch 34/100\n",
      "28/28 [==============================] - 0s 2ms/step - loss: 0.4329 - accuracy: 0.8092\n",
      "Epoch 35/100\n",
      "28/28 [==============================] - 0s 1ms/step - loss: 0.4309 - accuracy: 0.8126\n",
      "Epoch 36/100\n",
      "28/28 [==============================] - 0s 1ms/step - loss: 0.4301 - accuracy: 0.8103\n",
      "Epoch 37/100\n",
      "28/28 [==============================] - 0s 1ms/step - loss: 0.4279 - accuracy: 0.8114\n",
      "Epoch 38/100\n",
      "28/28 [==============================] - 0s 1ms/step - loss: 0.4258 - accuracy: 0.8081\n",
      "Epoch 39/100\n",
      "28/28 [==============================] - 0s 1ms/step - loss: 0.4246 - accuracy: 0.8159\n",
      "Epoch 40/100\n",
      "28/28 [==============================] - 0s 1ms/step - loss: 0.4236 - accuracy: 0.8148\n",
      "Epoch 41/100\n",
      "28/28 [==============================] - 0s 1ms/step - loss: 0.4214 - accuracy: 0.8159\n",
      "Epoch 42/100\n",
      "28/28 [==============================] - 0s 1ms/step - loss: 0.4203 - accuracy: 0.8182\n",
      "Epoch 43/100\n",
      "28/28 [==============================] - 0s 1ms/step - loss: 0.4194 - accuracy: 0.8182\n",
      "Epoch 44/100\n",
      "28/28 [==============================] - 0s 1ms/step - loss: 0.4188 - accuracy: 0.8182\n",
      "Epoch 45/100\n",
      "28/28 [==============================] - 0s 1ms/step - loss: 0.4175 - accuracy: 0.8182\n",
      "Epoch 46/100\n",
      "28/28 [==============================] - 0s 1ms/step - loss: 0.4171 - accuracy: 0.8137\n",
      "Epoch 47/100\n",
      "28/28 [==============================] - 0s 1ms/step - loss: 0.4160 - accuracy: 0.8204\n",
      "Epoch 48/100\n",
      "28/28 [==============================] - 0s 1ms/step - loss: 0.4155 - accuracy: 0.8204\n",
      "Epoch 49/100\n",
      "28/28 [==============================] - 0s 1ms/step - loss: 0.4153 - accuracy: 0.8193\n",
      "Epoch 50/100\n",
      "28/28 [==============================] - 0s 1ms/step - loss: 0.4148 - accuracy: 0.8182\n",
      "Epoch 51/100\n",
      "28/28 [==============================] - 0s 1ms/step - loss: 0.4137 - accuracy: 0.8215\n",
      "Epoch 52/100\n",
      "28/28 [==============================] - 0s 1ms/step - loss: 0.4131 - accuracy: 0.8193\n",
      "Epoch 53/100\n",
      "28/28 [==============================] - 0s 995us/step - loss: 0.4129 - accuracy: 0.8204\n",
      "Epoch 54/100\n",
      "28/28 [==============================] - 0s 1ms/step - loss: 0.4123 - accuracy: 0.8204\n",
      "Epoch 55/100\n",
      "28/28 [==============================] - 0s 1ms/step - loss: 0.4115 - accuracy: 0.8215\n",
      "Epoch 56/100\n",
      "28/28 [==============================] - 0s 1ms/step - loss: 0.4116 - accuracy: 0.8171\n",
      "Epoch 57/100\n",
      "28/28 [==============================] - 0s 1ms/step - loss: 0.4106 - accuracy: 0.8215\n",
      "Epoch 58/100\n",
      "28/28 [==============================] - 0s 1ms/step - loss: 0.4100 - accuracy: 0.8204\n",
      "Epoch 59/100\n",
      "28/28 [==============================] - 0s 1ms/step - loss: 0.4100 - accuracy: 0.8227\n",
      "Epoch 60/100\n",
      "28/28 [==============================] - 0s 1ms/step - loss: 0.4097 - accuracy: 0.8227\n",
      "Epoch 61/100\n",
      "28/28 [==============================] - 0s 1ms/step - loss: 0.4084 - accuracy: 0.8215\n",
      "Epoch 62/100\n",
      "28/28 [==============================] - 0s 1ms/step - loss: 0.4079 - accuracy: 0.8227\n",
      "Epoch 63/100\n",
      "28/28 [==============================] - 0s 1ms/step - loss: 0.4070 - accuracy: 0.8227\n",
      "Epoch 64/100\n",
      "28/28 [==============================] - 0s 1ms/step - loss: 0.4066 - accuracy: 0.8227\n",
      "Epoch 65/100\n",
      "28/28 [==============================] - 0s 1ms/step - loss: 0.4060 - accuracy: 0.8193\n",
      "Epoch 66/100\n",
      "28/28 [==============================] - 0s 1ms/step - loss: 0.4055 - accuracy: 0.8215\n",
      "Epoch 67/100\n",
      "28/28 [==============================] - 0s 980us/step - loss: 0.4058 - accuracy: 0.8238\n",
      "Epoch 68/100\n",
      "28/28 [==============================] - 0s 1ms/step - loss: 0.4044 - accuracy: 0.8215\n",
      "Epoch 69/100\n",
      "28/28 [==============================] - 0s 1ms/step - loss: 0.4041 - accuracy: 0.8238\n",
      "Epoch 70/100\n",
      "28/28 [==============================] - 0s 1ms/step - loss: 0.4047 - accuracy: 0.8238\n",
      "Epoch 71/100\n",
      "28/28 [==============================] - 0s 1ms/step - loss: 0.4036 - accuracy: 0.8249\n",
      "Epoch 72/100\n",
      "28/28 [==============================] - 0s 1ms/step - loss: 0.4033 - accuracy: 0.8272\n",
      "Epoch 73/100\n",
      "28/28 [==============================] - 0s 1ms/step - loss: 0.4025 - accuracy: 0.8272\n",
      "Epoch 74/100\n",
      "28/28 [==============================] - 0s 993us/step - loss: 0.4027 - accuracy: 0.8260\n",
      "Epoch 75/100\n",
      "28/28 [==============================] - 0s 999us/step - loss: 0.4018 - accuracy: 0.8283\n",
      "Epoch 76/100\n",
      "28/28 [==============================] - 0s 1ms/step - loss: 0.4017 - accuracy: 0.8283\n",
      "Epoch 77/100\n",
      "28/28 [==============================] - 0s 1ms/step - loss: 0.4014 - accuracy: 0.8283\n",
      "Epoch 78/100\n",
      "28/28 [==============================] - 0s 1ms/step - loss: 0.4013 - accuracy: 0.8283\n",
      "Epoch 79/100\n",
      "28/28 [==============================] - 0s 1ms/step - loss: 0.4006 - accuracy: 0.8249\n",
      "Epoch 80/100\n",
      "28/28 [==============================] - 0s 1ms/step - loss: 0.4002 - accuracy: 0.8272\n",
      "Epoch 81/100\n",
      "28/28 [==============================] - 0s 1ms/step - loss: 0.4003 - accuracy: 0.8283\n",
      "Epoch 82/100\n",
      "28/28 [==============================] - 0s 1ms/step - loss: 0.3998 - accuracy: 0.8272\n",
      "Epoch 83/100\n",
      "28/28 [==============================] - 0s 1ms/step - loss: 0.3993 - accuracy: 0.8294\n",
      "Epoch 84/100\n",
      "28/28 [==============================] - 0s 1ms/step - loss: 0.3995 - accuracy: 0.8294\n",
      "Epoch 85/100\n",
      "28/28 [==============================] - 0s 1ms/step - loss: 0.3991 - accuracy: 0.8316\n",
      "Epoch 86/100\n",
      "28/28 [==============================] - 0s 1ms/step - loss: 0.3990 - accuracy: 0.8328\n",
      "Epoch 87/100\n",
      "28/28 [==============================] - 0s 1ms/step - loss: 0.3990 - accuracy: 0.8294\n",
      "Epoch 88/100\n",
      "28/28 [==============================] - 0s 1ms/step - loss: 0.3982 - accuracy: 0.8283\n",
      "Epoch 89/100\n",
      "28/28 [==============================] - 0s 1ms/step - loss: 0.3985 - accuracy: 0.8272\n",
      "Epoch 90/100\n",
      "28/28 [==============================] - 0s 1ms/step - loss: 0.3976 - accuracy: 0.8305\n",
      "Epoch 91/100\n",
      "28/28 [==============================] - 0s 1ms/step - loss: 0.3974 - accuracy: 0.8305\n",
      "Epoch 92/100\n",
      "28/28 [==============================] - 0s 1ms/step - loss: 0.3976 - accuracy: 0.8305\n",
      "Epoch 93/100\n",
      "28/28 [==============================] - 0s 1ms/step - loss: 0.3971 - accuracy: 0.8260\n",
      "Epoch 94/100\n",
      "28/28 [==============================] - 0s 1ms/step - loss: 0.3972 - accuracy: 0.8316\n",
      "Epoch 95/100\n",
      "28/28 [==============================] - 0s 1ms/step - loss: 0.3974 - accuracy: 0.8294\n",
      "Epoch 96/100\n",
      "28/28 [==============================] - 0s 1ms/step - loss: 0.3979 - accuracy: 0.8328\n",
      "Epoch 97/100\n",
      "28/28 [==============================] - 0s 1ms/step - loss: 0.3957 - accuracy: 0.8272\n",
      "Epoch 98/100\n",
      "28/28 [==============================] - 0s 1ms/step - loss: 0.3953 - accuracy: 0.8316\n",
      "Epoch 99/100\n",
      "28/28 [==============================] - 0s 1ms/step - loss: 0.3951 - accuracy: 0.8305\n",
      "Epoch 100/100\n",
      "28/28 [==============================] - 0s 1ms/step - loss: 0.3950 - accuracy: 0.8283\n"
     ]
    },
    {
     "data": {
      "text/plain": [
       "<tensorflow.python.keras.callbacks.History at 0x7f64100f83d0>"
      ]
     },
     "execution_count": 42,
     "metadata": {},
     "output_type": "execute_result"
    }
   ],
   "source": [
    "model.fit(X_train,y_train,epochs=100)"
   ]
  },
  {
   "cell_type": "code",
   "execution_count": 43,
   "metadata": {
    "execution": {
     "iopub.execute_input": "2021-01-12T13:57:04.522765Z",
     "iopub.status.busy": "2021-01-12T13:57:04.521854Z",
     "iopub.status.idle": "2021-01-12T13:57:04.714435Z",
     "shell.execute_reply": "2021-01-12T13:57:04.715130Z"
    },
    "papermill": {
     "duration": 0.326275,
     "end_time": "2021-01-12T13:57:04.715306",
     "exception": false,
     "start_time": "2021-01-12T13:57:04.389031",
     "status": "completed"
    },
    "tags": []
   },
   "outputs": [],
   "source": [
    "acc = accuracy_score(y_train,model.predict_classes(X_train))\n",
    "cm =confusion_matrix(y_train,model.predict_classes(X_train))"
   ]
  },
  {
   "cell_type": "code",
   "execution_count": 44,
   "metadata": {
    "execution": {
     "iopub.execute_input": "2021-01-12T13:57:04.977975Z",
     "iopub.status.busy": "2021-01-12T13:57:04.976948Z",
     "iopub.status.idle": "2021-01-12T13:57:04.981943Z",
     "shell.execute_reply": "2021-01-12T13:57:04.981354Z"
    },
    "papermill": {
     "duration": 0.137936,
     "end_time": "2021-01-12T13:57:04.982057",
     "exception": false,
     "start_time": "2021-01-12T13:57:04.844121",
     "status": "completed"
    },
    "tags": []
   },
   "outputs": [
    {
     "data": {
      "text/plain": [
       "0.8305274971941639"
      ]
     },
     "execution_count": 44,
     "metadata": {},
     "output_type": "execute_result"
    }
   ],
   "source": [
    "acc"
   ]
  },
  {
   "cell_type": "code",
   "execution_count": 45,
   "metadata": {
    "execution": {
     "iopub.execute_input": "2021-01-12T13:57:05.243749Z",
     "iopub.status.busy": "2021-01-12T13:57:05.243072Z",
     "iopub.status.idle": "2021-01-12T13:57:05.246096Z",
     "shell.execute_reply": "2021-01-12T13:57:05.246665Z"
    },
    "papermill": {
     "duration": 0.137885,
     "end_time": "2021-01-12T13:57:05.246809",
     "exception": false,
     "start_time": "2021-01-12T13:57:05.108924",
     "status": "completed"
    },
    "tags": []
   },
   "outputs": [
    {
     "data": {
      "text/plain": [
       "array([[491,  58],\n",
       "       [ 93, 249]])"
      ]
     },
     "execution_count": 45,
     "metadata": {},
     "output_type": "execute_result"
    }
   ],
   "source": [
    "cm"
   ]
  },
  {
   "cell_type": "markdown",
   "metadata": {
    "papermill": {
     "duration": 0.128245,
     "end_time": "2021-01-12T13:57:05.502750",
     "exception": false,
     "start_time": "2021-01-12T13:57:05.374505",
     "status": "completed"
    },
    "tags": []
   },
   "source": [
    "## Random Forest had the best accuracy,fitting it on test set"
   ]
  },
  {
   "cell_type": "code",
   "execution_count": 46,
   "metadata": {
    "execution": {
     "iopub.execute_input": "2021-01-12T13:57:05.761705Z",
     "iopub.status.busy": "2021-01-12T13:57:05.760972Z",
     "iopub.status.idle": "2021-01-12T13:57:05.787228Z",
     "shell.execute_reply": "2021-01-12T13:57:05.786694Z"
    },
    "papermill": {
     "duration": 0.157369,
     "end_time": "2021-01-12T13:57:05.787369",
     "exception": false,
     "start_time": "2021-01-12T13:57:05.630000",
     "status": "completed"
    },
    "tags": []
   },
   "outputs": [
    {
     "data": {
      "text/plain": [
       "array([0, 0, 0, 1, 0, 0, 0, 0, 1, 0, 0, 0, 1, 0, 1, 1, 0, 1, 0, 0, 1, 1,\n",
       "       1, 1, 1, 0, 1, 1, 1, 0, 0, 0, 1, 0, 1, 1, 1, 0, 0, 1, 0, 1, 0, 1,\n",
       "       1, 0, 0, 0, 1, 1, 0, 0, 1, 1, 0, 0, 0, 0, 0, 1, 0, 0, 0, 1, 1, 1,\n",
       "       1, 0, 0, 1, 1, 0, 0, 0, 1, 0, 0, 1, 0, 1, 1, 0, 0, 0, 0, 0, 1, 0,\n",
       "       1, 1, 0, 1, 1, 0, 0, 0, 1, 0, 1, 0, 1, 0, 0, 0, 1, 0, 0, 0, 1, 0,\n",
       "       0, 1, 1, 0, 1, 0, 0, 1, 0, 1, 1, 0, 1, 0, 0, 1, 0, 1, 0, 0, 1, 0,\n",
       "       0, 0, 0, 0, 0, 0, 0, 0, 0, 1, 0, 0, 1, 0, 0, 0, 1, 0, 1, 0, 0, 1,\n",
       "       0, 0, 1, 1, 1, 1, 1, 1, 1, 1, 0, 0, 0, 0, 1, 0, 0, 0, 0, 0, 0, 1,\n",
       "       1, 1, 1, 1, 0, 1, 1, 0, 1, 0, 1, 0, 0, 0, 0, 0, 1, 0, 1, 0, 1, 0,\n",
       "       0, 1, 1, 1, 0, 1, 0, 0, 0, 0, 1, 0, 0, 0, 0, 0, 1, 0, 1, 0, 1, 0,\n",
       "       1, 0, 1, 1, 1, 0, 0, 1, 0, 0, 0, 1, 0, 0, 1, 0, 1, 1, 1, 1, 1, 1,\n",
       "       0, 0, 0, 0, 1, 0, 1, 0, 1, 0, 0, 0, 0, 0, 0, 0, 1, 0, 0, 0, 1, 1,\n",
       "       0, 0, 0, 0, 1, 0, 0, 0, 1, 1, 0, 1, 0, 0, 0, 0, 0, 1, 1, 0, 1, 0,\n",
       "       0, 0, 0, 0, 0, 0, 0, 0, 0, 0, 1, 0, 0, 0, 0, 0, 0, 0, 1, 1, 1, 1,\n",
       "       0, 0, 0, 1, 0, 0, 1, 1, 0, 0, 0, 0, 0, 0, 0, 1, 1, 0, 1, 0, 0, 0,\n",
       "       1, 1, 0, 0, 0, 0, 1, 0, 0, 0, 0, 0, 0, 1, 0, 1, 0, 0, 0, 1, 1, 0,\n",
       "       0, 0, 1, 0, 1, 0, 0, 1, 0, 1, 1, 1, 1, 0, 0, 0, 1, 1, 0, 1, 0, 0,\n",
       "       1, 1, 0, 0, 0, 0, 0, 0, 1, 0, 0, 1, 0, 0, 0, 0, 0, 1, 0, 0, 0, 1,\n",
       "       0, 1, 0, 0, 1, 0, 1, 0, 0, 0, 0, 0, 1, 1, 1, 1, 0, 0, 1, 0, 0, 1])"
      ]
     },
     "execution_count": 46,
     "metadata": {},
     "output_type": "execute_result"
    }
   ],
   "source": [
    "y_pred = classifier.predict(X_test)\n",
    "y_pred"
   ]
  },
  {
   "cell_type": "code",
   "execution_count": 47,
   "metadata": {
    "execution": {
     "iopub.execute_input": "2021-01-12T13:57:06.052632Z",
     "iopub.status.busy": "2021-01-12T13:57:06.051890Z",
     "iopub.status.idle": "2021-01-12T13:57:06.055007Z",
     "shell.execute_reply": "2021-01-12T13:57:06.055612Z"
    },
    "papermill": {
     "duration": 0.139301,
     "end_time": "2021-01-12T13:57:06.055763",
     "exception": false,
     "start_time": "2021-01-12T13:57:05.916462",
     "status": "completed"
    },
    "tags": []
   },
   "outputs": [
    {
     "data": {
      "text/plain": [
       "(418,)"
      ]
     },
     "execution_count": 47,
     "metadata": {},
     "output_type": "execute_result"
    }
   ],
   "source": [
    "y_pred.shape"
   ]
  },
  {
   "cell_type": "code",
   "execution_count": 48,
   "metadata": {
    "execution": {
     "iopub.execute_input": "2021-01-12T13:57:06.315338Z",
     "iopub.status.busy": "2021-01-12T13:57:06.314686Z",
     "iopub.status.idle": "2021-01-12T13:57:06.320834Z",
     "shell.execute_reply": "2021-01-12T13:57:06.320302Z"
    },
    "papermill": {
     "duration": 0.136955,
     "end_time": "2021-01-12T13:57:06.320949",
     "exception": false,
     "start_time": "2021-01-12T13:57:06.183994",
     "status": "completed"
    },
    "tags": []
   },
   "outputs": [
    {
     "data": {
      "text/plain": [
       "(418,)"
      ]
     },
     "execution_count": 48,
     "metadata": {},
     "output_type": "execute_result"
    }
   ],
   "source": [
    "X_test_pass.shape"
   ]
  },
  {
   "cell_type": "code",
   "execution_count": 49,
   "metadata": {
    "execution": {
     "iopub.execute_input": "2021-01-12T13:57:06.584560Z",
     "iopub.status.busy": "2021-01-12T13:57:06.583833Z",
     "iopub.status.idle": "2021-01-12T13:57:06.815725Z",
     "shell.execute_reply": "2021-01-12T13:57:06.816254Z"
    },
    "papermill": {
     "duration": 0.364999,
     "end_time": "2021-01-12T13:57:06.816411",
     "exception": false,
     "start_time": "2021-01-12T13:57:06.451412",
     "status": "completed"
    },
    "tags": []
   },
   "outputs": [],
   "source": [
    "output = pd.DataFrame({'PassengerID': X_test_pass,'Survived':y_pred})\n",
    "output.to_csv('my_submission.csv',index=False)"
   ]
  },
  {
   "cell_type": "code",
   "execution_count": 50,
   "metadata": {
    "execution": {
     "iopub.execute_input": "2021-01-12T13:57:07.087557Z",
     "iopub.status.busy": "2021-01-12T13:57:07.086728Z",
     "iopub.status.idle": "2021-01-12T13:57:07.091287Z",
     "shell.execute_reply": "2021-01-12T13:57:07.090701Z"
    },
    "papermill": {
     "duration": 0.144898,
     "end_time": "2021-01-12T13:57:07.091485",
     "exception": false,
     "start_time": "2021-01-12T13:57:06.946587",
     "status": "completed"
    },
    "tags": []
   },
   "outputs": [
    {
     "data": {
      "text/html": [
       "<div>\n",
       "<style scoped>\n",
       "    .dataframe tbody tr th:only-of-type {\n",
       "        vertical-align: middle;\n",
       "    }\n",
       "\n",
       "    .dataframe tbody tr th {\n",
       "        vertical-align: top;\n",
       "    }\n",
       "\n",
       "    .dataframe thead th {\n",
       "        text-align: right;\n",
       "    }\n",
       "</style>\n",
       "<table border=\"1\" class=\"dataframe\">\n",
       "  <thead>\n",
       "    <tr style=\"text-align: right;\">\n",
       "      <th></th>\n",
       "      <th>PassengerID</th>\n",
       "      <th>Survived</th>\n",
       "    </tr>\n",
       "  </thead>\n",
       "  <tbody>\n",
       "    <tr>\n",
       "      <th>0</th>\n",
       "      <td>892</td>\n",
       "      <td>0</td>\n",
       "    </tr>\n",
       "    <tr>\n",
       "      <th>1</th>\n",
       "      <td>893</td>\n",
       "      <td>0</td>\n",
       "    </tr>\n",
       "    <tr>\n",
       "      <th>2</th>\n",
       "      <td>894</td>\n",
       "      <td>0</td>\n",
       "    </tr>\n",
       "    <tr>\n",
       "      <th>3</th>\n",
       "      <td>895</td>\n",
       "      <td>1</td>\n",
       "    </tr>\n",
       "    <tr>\n",
       "      <th>4</th>\n",
       "      <td>896</td>\n",
       "      <td>0</td>\n",
       "    </tr>\n",
       "    <tr>\n",
       "      <th>5</th>\n",
       "      <td>897</td>\n",
       "      <td>0</td>\n",
       "    </tr>\n",
       "    <tr>\n",
       "      <th>6</th>\n",
       "      <td>898</td>\n",
       "      <td>0</td>\n",
       "    </tr>\n",
       "    <tr>\n",
       "      <th>7</th>\n",
       "      <td>899</td>\n",
       "      <td>0</td>\n",
       "    </tr>\n",
       "    <tr>\n",
       "      <th>8</th>\n",
       "      <td>900</td>\n",
       "      <td>1</td>\n",
       "    </tr>\n",
       "    <tr>\n",
       "      <th>9</th>\n",
       "      <td>901</td>\n",
       "      <td>0</td>\n",
       "    </tr>\n",
       "  </tbody>\n",
       "</table>\n",
       "</div>"
      ],
      "text/plain": [
       "   PassengerID  Survived\n",
       "0          892         0\n",
       "1          893         0\n",
       "2          894         0\n",
       "3          895         1\n",
       "4          896         0\n",
       "5          897         0\n",
       "6          898         0\n",
       "7          899         0\n",
       "8          900         1\n",
       "9          901         0"
      ]
     },
     "execution_count": 50,
     "metadata": {},
     "output_type": "execute_result"
    }
   ],
   "source": [
    "output.head(10)"
   ]
  }
 ],
 "metadata": {
  "kernelspec": {
   "display_name": "Python 3",
   "language": "python",
   "name": "python3"
  },
  "language_info": {
   "codemirror_mode": {
    "name": "ipython",
    "version": 3
   },
   "file_extension": ".py",
   "mimetype": "text/x-python",
   "name": "python",
   "nbconvert_exporter": "python",
   "pygments_lexer": "ipython3",
   "version": "3.7.6"
  },
  "papermill": {
   "duration": 27.558472,
   "end_time": "2021-01-12T13:57:07.331445",
   "environment_variables": {},
   "exception": null,
   "input_path": "__notebook__.ipynb",
   "output_path": "__notebook__.ipynb",
   "parameters": {},
   "start_time": "2021-01-12T13:56:39.772973",
   "version": "2.1.0"
  }
 },
 "nbformat": 4,
 "nbformat_minor": 4
}
